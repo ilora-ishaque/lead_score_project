{
 "cells": [
  {
   "cell_type": "code",
   "execution_count": 2,
   "id": "aacf9fec-a8b1-4cb3-af82-c38a496cfdd4",
   "metadata": {},
   "outputs": [],
   "source": [
    "import os\n",
    "import sys\n",
    "\n",
    "#import matplotlib.pyplot as plt\n",
    "#import numpy as np\n",
    "import pandas as pd\n",
    "import plotly.io as pio\n",
    "#import seaborn as sns\n",
    "#from feature_engine.selection import SmartCorrelatedSelection\n",
    "\n",
    "import polars as pl\n",
    "\n",
    "# Path needs to be added manually to read from another folder\n",
    "path2add = os.path.normpath(\n",
    "    os.path.abspath(os.path.join(os.path.dirname(\"__file__\"), os.path.pardir, \"utils\"))\n",
    ")\n",
    "if not (path2add in sys.path):\n",
    "    sys.path.append(path2add)"
   ]
  },
  {
   "cell_type": "code",
   "execution_count": 3,
   "id": "d0702933-899b-4123-a22f-bf6147c2d81f",
   "metadata": {},
   "outputs": [],
   "source": [
    "data = pl.read_parquet('../data/supervised_clean_data.parquet')"
   ]
  },
  {
   "cell_type": "code",
   "execution_count": 4,
   "id": "2a53cef0-fdce-4478-9359-0bb43932b149",
   "metadata": {},
   "outputs": [],
   "source": [
    "data = data.drop(['What matters most to you in choosing a course','Search',\n",
    "'Magazine','Newspaper Article','X Education Forums','Newspaper',\n",
    "'Digital Advertisement','Through Recommendations','Receive More Updates About Our Courses',\n",
    "'Update me on Supply Chain Content',\n",
    "'Get updates on DM Content','I agree to pay the amount through cheque',\n",
    "'A free copy of Mastering The Interview','Country'])"
   ]
  },
  {
   "cell_type": "code",
   "execution_count": 5,
   "id": "9755256a-3462-489d-821a-f8b754bfc694",
   "metadata": {},
   "outputs": [],
   "source": [
    "categorical_cols = [col for col in data.columns if data[col].dtype in [pl.Utf8, pl.Categorical]]"
   ]
  },
  {
   "cell_type": "code",
   "execution_count": 6,
   "id": "358ca2c3-c912-4f36-9fcf-2634f5a0386a",
   "metadata": {},
   "outputs": [],
   "source": [
    "numerical_cols = [col for col in data.columns if data[col].dtype in [pl.Int32, pl.Int64, pl.UInt32, pl.UInt64, pl.Float32, pl.Float64]]"
   ]
  },
  {
   "cell_type": "code",
   "execution_count": 7,
   "id": "ae57d2e5-2834-4097-95cf-597f2bfc3bc8",
   "metadata": {},
   "outputs": [
    {
     "data": {
      "text/plain": [
       "['TotalVisits', 'Total Time Spent on Website', 'Page Views Per Visit']"
      ]
     },
     "execution_count": 7,
     "metadata": {},
     "output_type": "execute_result"
    }
   ],
   "source": [
    "\n",
    "del numerical_cols[0]\n",
    "del numerical_cols[0]\n",
    "numerical_cols"
   ]
  },
  {
   "cell_type": "code",
   "execution_count": 8,
   "id": "a9ddf79a-2284-4054-aed3-da11c055bc49",
   "metadata": {},
   "outputs": [
    {
     "data": {
      "text/plain": [
       "['TotalVisits', 'Total Time Spent on Website', 'Page Views Per Visit']"
      ]
     },
     "execution_count": 8,
     "metadata": {},
     "output_type": "execute_result"
    }
   ],
   "source": [
    "numerical_cols"
   ]
  },
  {
   "cell_type": "code",
   "execution_count": 9,
   "id": "de383007-ddc6-488b-8ce1-0ab0ca505a18",
   "metadata": {},
   "outputs": [
    {
     "data": {
      "text/plain": [
       "['Prospect ID',\n",
       " 'Lead Origin',\n",
       " 'Lead Source',\n",
       " 'Do Not Email',\n",
       " 'Do Not Call',\n",
       " 'Last Activity',\n",
       " 'Specialization',\n",
       " 'How did you hear about X Education',\n",
       " 'What is your current occupation',\n",
       " 'Tags',\n",
       " 'Lead Quality',\n",
       " 'Lead Profile',\n",
       " 'City',\n",
       " 'Last Notable Activity']"
      ]
     },
     "execution_count": 9,
     "metadata": {},
     "output_type": "execute_result"
    }
   ],
   "source": [
    "categorical_cols"
   ]
  },
  {
   "cell_type": "code",
   "execution_count": 10,
   "id": "6326f99b-f2de-45a0-ba7b-759426348a32",
   "metadata": {},
   "outputs": [],
   "source": [
    "del categorical_cols[0]"
   ]
  },
  {
   "cell_type": "code",
   "execution_count": 10,
   "id": "f6692015-ccd5-4621-8f8f-f711a3c4aa83",
   "metadata": {},
   "outputs": [
    {
     "data": {
      "text/html": [
       "<div><style>\n",
       ".dataframe > thead > tr,\n",
       ".dataframe > tbody > tr {\n",
       "  text-align: right;\n",
       "  white-space: pre-wrap;\n",
       "}\n",
       "</style>\n",
       "<small>shape: (1, 14)</small><table border=\"1\" class=\"dataframe\"><thead><tr><th>Prospect ID_unique_count</th><th>Lead Origin_unique_count</th><th>Lead Source_unique_count</th><th>Do Not Email_unique_count</th><th>Do Not Call_unique_count</th><th>Last Activity_unique_count</th><th>Specialization_unique_count</th><th>How did you hear about X Education_unique_count</th><th>What is your current occupation_unique_count</th><th>Tags_unique_count</th><th>Lead Quality_unique_count</th><th>Lead Profile_unique_count</th><th>City_unique_count</th><th>Last Notable Activity_unique_count</th></tr><tr><td>u32</td><td>u32</td><td>u32</td><td>u32</td><td>u32</td><td>u32</td><td>u32</td><td>u32</td><td>u32</td><td>u32</td><td>u32</td><td>u32</td><td>u32</td><td>u32</td></tr></thead><tbody><tr><td>9240</td><td>5</td><td>21</td><td>2</td><td>2</td><td>17</td><td>19</td><td>10</td><td>6</td><td>27</td><td>6</td><td>6</td><td>6</td><td>16</td></tr></tbody></table></div>"
      ],
      "text/plain": [
       "shape: (1, 14)\n",
       "┌────────────┬────────────┬───────────┬───────────┬───┬───────────┬───────────┬───────────┬───────────┐\n",
       "│ Prospect   ┆ Lead Origi ┆ Lead Sour ┆ Do Not    ┆ … ┆ Lead Qual ┆ Lead Prof ┆ City_uniq ┆ Last      │\n",
       "│ ID_unique_ ┆ n_unique_c ┆ ce_unique ┆ Email_uni ┆   ┆ ity_uniqu ┆ ile_uniqu ┆ ue_count  ┆ Notable   │\n",
       "│ count      ┆ ount       ┆ _count    ┆ que_count ┆   ┆ e_count   ┆ e_count   ┆ ---       ┆ Activity_ │\n",
       "│ ---        ┆ ---        ┆ ---       ┆ ---       ┆   ┆ ---       ┆ ---       ┆ u32       ┆ unique_c… │\n",
       "│ u32        ┆ u32        ┆ u32       ┆ u32       ┆   ┆ u32       ┆ u32       ┆           ┆ ---       │\n",
       "│            ┆            ┆           ┆           ┆   ┆           ┆           ┆           ┆ u32       │\n",
       "╞════════════╪════════════╪═══════════╪═══════════╪═══╪═══════════╪═══════════╪═══════════╪═══════════╡\n",
       "│ 9240       ┆ 5          ┆ 21        ┆ 2         ┆ … ┆ 6         ┆ 6         ┆ 6         ┆ 16        │\n",
       "└────────────┴────────────┴───────────┴───────────┴───┴───────────┴───────────┴───────────┴───────────┘"
      ]
     },
     "execution_count": 10,
     "metadata": {},
     "output_type": "execute_result"
    }
   ],
   "source": [
    "data.select([\n",
    "    pl.col(column).n_unique().alias(f\"{column}_unique_count\")\n",
    "    for column in categorical_cols\n",
    "])"
   ]
  },
  {
   "cell_type": "code",
   "execution_count": null,
   "id": "b246d120-4b66-4bfd-ad3f-718a27502caa",
   "metadata": {},
   "outputs": [],
   "source": []
  },
  {
   "cell_type": "code",
   "execution_count": 11,
   "id": "6b5e142e-3e3f-4995-b63f-1380fd451950",
   "metadata": {},
   "outputs": [],
   "source": [
    "categorical_encoding_df = data.select(categorical_cols).to_dummies(drop_first=True)"
   ]
  },
  {
   "cell_type": "code",
   "execution_count": 29,
   "id": "ff06a586-ede6-4000-8e45-44be1f50955d",
   "metadata": {},
   "outputs": [
    {
     "data": {
      "text/html": [
       "<div><style>\n",
       ".dataframe > thead > tr,\n",
       ".dataframe > tbody > tr {\n",
       "  text-align: right;\n",
       "  white-space: pre-wrap;\n",
       "}\n",
       "</style>\n",
       "<small>shape: (9_240, 130)</small><table border=\"1\" class=\"dataframe\"><thead><tr><th>Lead Origin_Landing Page Submission</th><th>Lead Origin_Lead Add Form</th><th>Lead Origin_Lead Import</th><th>Lead Origin_Quick Add Form</th><th>Lead Source_Click2call</th><th>Lead Source_Direct Traffic</th><th>Lead Source_Facebook</th><th>Lead Source_Google</th><th>Lead Source_Live Chat</th><th>Lead Source_NC_EDM</th><th>Lead Source_Organic Search</th><th>Lead Source_Pay per Click Ads</th><th>Lead Source_Press_Release</th><th>Lead Source_Reference</th><th>Lead Source_Referral Sites</th><th>Lead Source_Social Media</th><th>Lead Source_WeLearn</th><th>Lead Source_Welingak Website</th><th>Lead Source_bing</th><th>Lead Source_blog</th><th>Lead Source_google</th><th>Lead Source_testone</th><th>Lead Source_welearnblog_Home</th><th>Lead Source_youtubechannel</th><th>Do Not Email_Yes</th><th>Do Not Call_Yes</th><th>Last Activity_Approached upfront</th><th>Last Activity_Converted to Lead</th><th>Last Activity_Email Bounced</th><th>Last Activity_Email Link Clicked</th><th>Last Activity_Email Marked Spam</th><th>Last Activity_Email Opened</th><th>Last Activity_Email Received</th><th>Last Activity_Form Submitted on Website</th><th>Last Activity_Had a Phone Conversation</th><th>Last Activity_Olark Chat Conversation</th><th>Last Activity_Resubscribed to emails</th><th>&hellip;</th><th>Tags_Will revert after reading the email</th><th>Tags_in touch with EINS</th><th>Tags_invalid number</th><th>Tags_number not provided</th><th>Tags_opp hangup</th><th>Tags_switched off</th><th>Tags_wrong number given</th><th>Lead Quality_High in Relevance</th><th>Lead Quality_Might be</th><th>Lead Quality_None</th><th>Lead Quality_Not Sure</th><th>Lead Quality_Worst</th><th>Lead Profile_Dual Specialization Student</th><th>Lead Profile_Lateral Student</th><th>Lead Profile_Other Leads</th><th>Lead Profile_Potential Lead</th><th>Lead Profile_Student of SomeSchool</th><th>City_Other Cities</th><th>City_Other Cities of Maharashtra</th><th>City_Other Metro Cities</th><th>City_Thane &amp; Outskirts</th><th>City_Tier II Cities</th><th>Last Notable Activity_Approached upfront</th><th>Last Notable Activity_Email Bounced</th><th>Last Notable Activity_Email Link Clicked</th><th>Last Notable Activity_Email Marked Spam</th><th>Last Notable Activity_Email Opened</th><th>Last Notable Activity_Email Received</th><th>Last Notable Activity_Form Submitted on Website</th><th>Last Notable Activity_Had a Phone Conversation</th><th>Last Notable Activity_Olark Chat Conversation</th><th>Last Notable Activity_Page Visited on Website</th><th>Last Notable Activity_Resubscribed to emails</th><th>Last Notable Activity_SMS Sent</th><th>Last Notable Activity_Unreachable</th><th>Last Notable Activity_Unsubscribed</th><th>Last Notable Activity_View in browser link Clicked</th></tr><tr><td>u8</td><td>u8</td><td>u8</td><td>u8</td><td>u8</td><td>u8</td><td>u8</td><td>u8</td><td>u8</td><td>u8</td><td>u8</td><td>u8</td><td>u8</td><td>u8</td><td>u8</td><td>u8</td><td>u8</td><td>u8</td><td>u8</td><td>u8</td><td>u8</td><td>u8</td><td>u8</td><td>u8</td><td>u8</td><td>u8</td><td>u8</td><td>u8</td><td>u8</td><td>u8</td><td>u8</td><td>u8</td><td>u8</td><td>u8</td><td>u8</td><td>u8</td><td>u8</td><td>&hellip;</td><td>u8</td><td>u8</td><td>u8</td><td>u8</td><td>u8</td><td>u8</td><td>u8</td><td>u8</td><td>u8</td><td>u8</td><td>u8</td><td>u8</td><td>u8</td><td>u8</td><td>u8</td><td>u8</td><td>u8</td><td>u8</td><td>u8</td><td>u8</td><td>u8</td><td>u8</td><td>u8</td><td>u8</td><td>u8</td><td>u8</td><td>u8</td><td>u8</td><td>u8</td><td>u8</td><td>u8</td><td>u8</td><td>u8</td><td>u8</td><td>u8</td><td>u8</td><td>u8</td></tr></thead><tbody><tr><td>0</td><td>0</td><td>0</td><td>0</td><td>0</td><td>0</td><td>0</td><td>0</td><td>0</td><td>0</td><td>0</td><td>0</td><td>0</td><td>0</td><td>0</td><td>0</td><td>0</td><td>0</td><td>0</td><td>0</td><td>0</td><td>0</td><td>0</td><td>0</td><td>0</td><td>0</td><td>0</td><td>0</td><td>0</td><td>0</td><td>0</td><td>0</td><td>0</td><td>0</td><td>0</td><td>0</td><td>0</td><td>&hellip;</td><td>0</td><td>0</td><td>0</td><td>0</td><td>0</td><td>0</td><td>0</td><td>0</td><td>0</td><td>0</td><td>0</td><td>0</td><td>0</td><td>0</td><td>0</td><td>0</td><td>0</td><td>0</td><td>0</td><td>0</td><td>0</td><td>0</td><td>0</td><td>0</td><td>0</td><td>0</td><td>0</td><td>0</td><td>0</td><td>0</td><td>0</td><td>0</td><td>0</td><td>0</td><td>0</td><td>0</td><td>0</td></tr><tr><td>0</td><td>0</td><td>0</td><td>0</td><td>0</td><td>0</td><td>0</td><td>0</td><td>0</td><td>0</td><td>1</td><td>0</td><td>0</td><td>0</td><td>0</td><td>0</td><td>0</td><td>0</td><td>0</td><td>0</td><td>0</td><td>0</td><td>0</td><td>0</td><td>0</td><td>0</td><td>0</td><td>0</td><td>0</td><td>0</td><td>0</td><td>1</td><td>0</td><td>0</td><td>0</td><td>0</td><td>0</td><td>&hellip;</td><td>0</td><td>0</td><td>0</td><td>0</td><td>0</td><td>0</td><td>0</td><td>0</td><td>0</td><td>1</td><td>0</td><td>0</td><td>0</td><td>0</td><td>0</td><td>0</td><td>0</td><td>0</td><td>0</td><td>0</td><td>0</td><td>0</td><td>0</td><td>0</td><td>0</td><td>0</td><td>1</td><td>0</td><td>0</td><td>0</td><td>0</td><td>0</td><td>0</td><td>0</td><td>0</td><td>0</td><td>0</td></tr><tr><td>1</td><td>0</td><td>0</td><td>0</td><td>0</td><td>1</td><td>0</td><td>0</td><td>0</td><td>0</td><td>0</td><td>0</td><td>0</td><td>0</td><td>0</td><td>0</td><td>0</td><td>0</td><td>0</td><td>0</td><td>0</td><td>0</td><td>0</td><td>0</td><td>0</td><td>0</td><td>0</td><td>0</td><td>0</td><td>0</td><td>0</td><td>1</td><td>0</td><td>0</td><td>0</td><td>0</td><td>0</td><td>&hellip;</td><td>1</td><td>0</td><td>0</td><td>0</td><td>0</td><td>0</td><td>0</td><td>0</td><td>1</td><td>0</td><td>0</td><td>0</td><td>0</td><td>0</td><td>0</td><td>1</td><td>0</td><td>0</td><td>0</td><td>0</td><td>0</td><td>0</td><td>0</td><td>0</td><td>0</td><td>0</td><td>1</td><td>0</td><td>0</td><td>0</td><td>0</td><td>0</td><td>0</td><td>0</td><td>0</td><td>0</td><td>0</td></tr><tr><td>1</td><td>0</td><td>0</td><td>0</td><td>0</td><td>1</td><td>0</td><td>0</td><td>0</td><td>0</td><td>0</td><td>0</td><td>0</td><td>0</td><td>0</td><td>0</td><td>0</td><td>0</td><td>0</td><td>0</td><td>0</td><td>0</td><td>0</td><td>0</td><td>0</td><td>0</td><td>0</td><td>0</td><td>0</td><td>0</td><td>0</td><td>0</td><td>0</td><td>0</td><td>0</td><td>0</td><td>0</td><td>&hellip;</td><td>0</td><td>0</td><td>0</td><td>0</td><td>0</td><td>0</td><td>0</td><td>0</td><td>0</td><td>0</td><td>1</td><td>0</td><td>0</td><td>0</td><td>0</td><td>0</td><td>0</td><td>0</td><td>0</td><td>0</td><td>0</td><td>0</td><td>0</td><td>0</td><td>0</td><td>0</td><td>0</td><td>0</td><td>0</td><td>0</td><td>0</td><td>0</td><td>0</td><td>0</td><td>0</td><td>0</td><td>0</td></tr><tr><td>1</td><td>0</td><td>0</td><td>0</td><td>0</td><td>0</td><td>0</td><td>1</td><td>0</td><td>0</td><td>0</td><td>0</td><td>0</td><td>0</td><td>0</td><td>0</td><td>0</td><td>0</td><td>0</td><td>0</td><td>0</td><td>0</td><td>0</td><td>0</td><td>0</td><td>0</td><td>0</td><td>1</td><td>0</td><td>0</td><td>0</td><td>0</td><td>0</td><td>0</td><td>0</td><td>0</td><td>0</td><td>&hellip;</td><td>1</td><td>0</td><td>0</td><td>0</td><td>0</td><td>0</td><td>0</td><td>0</td><td>1</td><td>0</td><td>0</td><td>0</td><td>0</td><td>0</td><td>0</td><td>0</td><td>0</td><td>0</td><td>0</td><td>0</td><td>0</td><td>0</td><td>0</td><td>0</td><td>0</td><td>0</td><td>0</td><td>0</td><td>0</td><td>0</td><td>0</td><td>0</td><td>0</td><td>0</td><td>0</td><td>0</td><td>0</td></tr><tr><td>&hellip;</td><td>&hellip;</td><td>&hellip;</td><td>&hellip;</td><td>&hellip;</td><td>&hellip;</td><td>&hellip;</td><td>&hellip;</td><td>&hellip;</td><td>&hellip;</td><td>&hellip;</td><td>&hellip;</td><td>&hellip;</td><td>&hellip;</td><td>&hellip;</td><td>&hellip;</td><td>&hellip;</td><td>&hellip;</td><td>&hellip;</td><td>&hellip;</td><td>&hellip;</td><td>&hellip;</td><td>&hellip;</td><td>&hellip;</td><td>&hellip;</td><td>&hellip;</td><td>&hellip;</td><td>&hellip;</td><td>&hellip;</td><td>&hellip;</td><td>&hellip;</td><td>&hellip;</td><td>&hellip;</td><td>&hellip;</td><td>&hellip;</td><td>&hellip;</td><td>&hellip;</td><td>&hellip;</td><td>&hellip;</td><td>&hellip;</td><td>&hellip;</td><td>&hellip;</td><td>&hellip;</td><td>&hellip;</td><td>&hellip;</td><td>&hellip;</td><td>&hellip;</td><td>&hellip;</td><td>&hellip;</td><td>&hellip;</td><td>&hellip;</td><td>&hellip;</td><td>&hellip;</td><td>&hellip;</td><td>&hellip;</td><td>&hellip;</td><td>&hellip;</td><td>&hellip;</td><td>&hellip;</td><td>&hellip;</td><td>&hellip;</td><td>&hellip;</td><td>&hellip;</td><td>&hellip;</td><td>&hellip;</td><td>&hellip;</td><td>&hellip;</td><td>&hellip;</td><td>&hellip;</td><td>&hellip;</td><td>&hellip;</td><td>&hellip;</td><td>&hellip;</td><td>&hellip;</td><td>&hellip;</td></tr><tr><td>1</td><td>0</td><td>0</td><td>0</td><td>0</td><td>1</td><td>0</td><td>0</td><td>0</td><td>0</td><td>0</td><td>0</td><td>0</td><td>0</td><td>0</td><td>0</td><td>0</td><td>0</td><td>0</td><td>0</td><td>0</td><td>0</td><td>0</td><td>0</td><td>1</td><td>0</td><td>0</td><td>0</td><td>0</td><td>0</td><td>1</td><td>0</td><td>0</td><td>0</td><td>0</td><td>0</td><td>0</td><td>&hellip;</td><td>1</td><td>0</td><td>0</td><td>0</td><td>0</td><td>0</td><td>0</td><td>1</td><td>0</td><td>0</td><td>0</td><td>0</td><td>0</td><td>0</td><td>0</td><td>1</td><td>0</td><td>0</td><td>0</td><td>0</td><td>0</td><td>0</td><td>0</td><td>0</td><td>0</td><td>1</td><td>0</td><td>0</td><td>0</td><td>0</td><td>0</td><td>0</td><td>0</td><td>0</td><td>0</td><td>0</td><td>0</td></tr><tr><td>1</td><td>0</td><td>0</td><td>0</td><td>0</td><td>1</td><td>0</td><td>0</td><td>0</td><td>0</td><td>0</td><td>0</td><td>0</td><td>0</td><td>0</td><td>0</td><td>0</td><td>0</td><td>0</td><td>0</td><td>0</td><td>0</td><td>0</td><td>0</td><td>0</td><td>0</td><td>0</td><td>0</td><td>0</td><td>0</td><td>0</td><td>0</td><td>0</td><td>0</td><td>0</td><td>0</td><td>0</td><td>&hellip;</td><td>0</td><td>0</td><td>0</td><td>0</td><td>0</td><td>0</td><td>1</td><td>0</td><td>1</td><td>0</td><td>0</td><td>0</td><td>0</td><td>0</td><td>0</td><td>1</td><td>0</td><td>0</td><td>0</td><td>0</td><td>0</td><td>0</td><td>0</td><td>0</td><td>0</td><td>0</td><td>0</td><td>0</td><td>0</td><td>0</td><td>0</td><td>0</td><td>0</td><td>1</td><td>0</td><td>0</td><td>0</td></tr><tr><td>1</td><td>0</td><td>0</td><td>0</td><td>0</td><td>1</td><td>0</td><td>0</td><td>0</td><td>0</td><td>0</td><td>0</td><td>0</td><td>0</td><td>0</td><td>0</td><td>0</td><td>0</td><td>0</td><td>0</td><td>0</td><td>0</td><td>0</td><td>0</td><td>1</td><td>0</td><td>0</td><td>0</td><td>0</td><td>0</td><td>0</td><td>0</td><td>0</td><td>0</td><td>0</td><td>0</td><td>0</td><td>&hellip;</td><td>0</td><td>0</td><td>1</td><td>0</td><td>0</td><td>0</td><td>0</td><td>0</td><td>0</td><td>0</td><td>1</td><td>0</td><td>0</td><td>0</td><td>0</td><td>1</td><td>0</td><td>0</td><td>0</td><td>0</td><td>0</td><td>0</td><td>0</td><td>0</td><td>0</td><td>0</td><td>0</td><td>0</td><td>0</td><td>0</td><td>0</td><td>0</td><td>0</td><td>1</td><td>0</td><td>0</td><td>0</td></tr><tr><td>1</td><td>0</td><td>0</td><td>0</td><td>0</td><td>0</td><td>0</td><td>1</td><td>0</td><td>0</td><td>0</td><td>0</td><td>0</td><td>0</td><td>0</td><td>0</td><td>0</td><td>0</td><td>0</td><td>0</td><td>0</td><td>0</td><td>0</td><td>0</td><td>0</td><td>0</td><td>0</td><td>0</td><td>0</td><td>0</td><td>0</td><td>0</td><td>0</td><td>0</td><td>0</td><td>0</td><td>0</td><td>&hellip;</td><td>0</td><td>0</td><td>0</td><td>0</td><td>0</td><td>0</td><td>0</td><td>0</td><td>0</td><td>1</td><td>0</td><td>0</td><td>0</td><td>0</td><td>0</td><td>0</td><td>0</td><td>0</td><td>0</td><td>1</td><td>0</td><td>0</td><td>0</td><td>0</td><td>0</td><td>0</td><td>0</td><td>0</td><td>0</td><td>0</td><td>0</td><td>0</td><td>0</td><td>1</td><td>0</td><td>0</td><td>0</td></tr><tr><td>1</td><td>0</td><td>0</td><td>0</td><td>0</td><td>1</td><td>0</td><td>0</td><td>0</td><td>0</td><td>0</td><td>0</td><td>0</td><td>0</td><td>0</td><td>0</td><td>0</td><td>0</td><td>0</td><td>0</td><td>0</td><td>0</td><td>0</td><td>0</td><td>0</td><td>0</td><td>0</td><td>0</td><td>0</td><td>0</td><td>0</td><td>0</td><td>0</td><td>0</td><td>0</td><td>0</td><td>0</td><td>&hellip;</td><td>1</td><td>0</td><td>0</td><td>0</td><td>0</td><td>0</td><td>0</td><td>0</td><td>1</td><td>0</td><td>0</td><td>0</td><td>0</td><td>0</td><td>0</td><td>1</td><td>0</td><td>1</td><td>0</td><td>0</td><td>0</td><td>0</td><td>0</td><td>0</td><td>0</td><td>0</td><td>0</td><td>0</td><td>0</td><td>0</td><td>0</td><td>0</td><td>0</td><td>0</td><td>0</td><td>0</td><td>0</td></tr></tbody></table></div>"
      ],
      "text/plain": [
       "shape: (9_240, 130)\n",
       "┌────────────┬────────────┬───────────┬───────────┬───┬───────────┬───────────┬───────────┬───────────┐\n",
       "│ Lead Origi ┆ Lead Origi ┆ Lead Orig ┆ Lead Orig ┆ … ┆ Last      ┆ Last      ┆ Last      ┆ Last      │\n",
       "│ n_Landing  ┆ n_Lead Add ┆ in_Lead   ┆ in_Quick  ┆   ┆ Notable   ┆ Notable   ┆ Notable   ┆ Notable   │\n",
       "│ Page       ┆ Form       ┆ Import    ┆ Add Form  ┆   ┆ Activity_ ┆ Activity_ ┆ Activity_ ┆ Activity_ │\n",
       "│ Submi…     ┆ ---        ┆ ---       ┆ ---       ┆   ┆ SMS Sent  ┆ Unreacha… ┆ Unsubscr… ┆ View in … │\n",
       "│ ---        ┆ u8         ┆ u8        ┆ u8        ┆   ┆ ---       ┆ ---       ┆ ---       ┆ ---       │\n",
       "│ u8         ┆            ┆           ┆           ┆   ┆ u8        ┆ u8        ┆ u8        ┆ u8        │\n",
       "╞════════════╪════════════╪═══════════╪═══════════╪═══╪═══════════╪═══════════╪═══════════╪═══════════╡\n",
       "│ 0          ┆ 0          ┆ 0         ┆ 0         ┆ … ┆ 0         ┆ 0         ┆ 0         ┆ 0         │\n",
       "│ 0          ┆ 0          ┆ 0         ┆ 0         ┆ … ┆ 0         ┆ 0         ┆ 0         ┆ 0         │\n",
       "│ 1          ┆ 0          ┆ 0         ┆ 0         ┆ … ┆ 0         ┆ 0         ┆ 0         ┆ 0         │\n",
       "│ 1          ┆ 0          ┆ 0         ┆ 0         ┆ … ┆ 0         ┆ 0         ┆ 0         ┆ 0         │\n",
       "│ 1          ┆ 0          ┆ 0         ┆ 0         ┆ … ┆ 0         ┆ 0         ┆ 0         ┆ 0         │\n",
       "│ …          ┆ …          ┆ …         ┆ …         ┆ … ┆ …         ┆ …         ┆ …         ┆ …         │\n",
       "│ 1          ┆ 0          ┆ 0         ┆ 0         ┆ … ┆ 0         ┆ 0         ┆ 0         ┆ 0         │\n",
       "│ 1          ┆ 0          ┆ 0         ┆ 0         ┆ … ┆ 1         ┆ 0         ┆ 0         ┆ 0         │\n",
       "│ 1          ┆ 0          ┆ 0         ┆ 0         ┆ … ┆ 1         ┆ 0         ┆ 0         ┆ 0         │\n",
       "│ 1          ┆ 0          ┆ 0         ┆ 0         ┆ … ┆ 1         ┆ 0         ┆ 0         ┆ 0         │\n",
       "│ 1          ┆ 0          ┆ 0         ┆ 0         ┆ … ┆ 0         ┆ 0         ┆ 0         ┆ 0         │\n",
       "└────────────┴────────────┴───────────┴───────────┴───┴───────────┴───────────┴───────────┴───────────┘"
      ]
     },
     "execution_count": 29,
     "metadata": {},
     "output_type": "execute_result"
    }
   ],
   "source": [
    "categorical_encoding_df"
   ]
  },
  {
   "cell_type": "code",
   "execution_count": 12,
   "id": "49a46b89-65de-4bde-9530-240bdd96d00d",
   "metadata": {},
   "outputs": [],
   "source": [
    "numerical_encoding_df = data.select(numerical_cols).select([\n",
    "    (pl.col(col) - pl.col(col).min()) / (pl.col(col).max() - pl.col(col).min())\n",
    "    for col in numerical_cols\n",
    "])"
   ]
  },
  {
   "cell_type": "code",
   "execution_count": 31,
   "id": "4174ba89-e47d-483c-8b51-7e15a97e09ee",
   "metadata": {},
   "outputs": [
    {
     "data": {
      "text/html": [
       "<div><style>\n",
       ".dataframe > thead > tr,\n",
       ".dataframe > tbody > tr {\n",
       "  text-align: right;\n",
       "  white-space: pre-wrap;\n",
       "}\n",
       "</style>\n",
       "<small>shape: (9_240, 3)</small><table border=\"1\" class=\"dataframe\"><thead><tr><th>TotalVisits</th><th>Total Time Spent on Website</th><th>Page Views Per Visit</th></tr><tr><td>f64</td><td>f64</td><td>f64</td></tr></thead><tbody><tr><td>0.0</td><td>0.0</td><td>0.0</td></tr><tr><td>0.01992</td><td>0.296655</td><td>0.045455</td></tr><tr><td>0.007968</td><td>0.674296</td><td>0.036364</td></tr><tr><td>0.003984</td><td>0.134243</td><td>0.018182</td></tr><tr><td>0.007968</td><td>0.628521</td><td>0.018182</td></tr><tr><td>&hellip;</td><td>&hellip;</td><td>&hellip;</td></tr><tr><td>0.031873</td><td>0.81206</td><td>0.048545</td></tr><tr><td>0.007968</td><td>0.104754</td><td>0.036364</td></tr><tr><td>0.007968</td><td>0.087588</td><td>0.036364</td></tr><tr><td>0.011952</td><td>0.21963</td><td>0.054545</td></tr><tr><td>0.023904</td><td>0.56294</td><td>0.054545</td></tr></tbody></table></div>"
      ],
      "text/plain": [
       "shape: (9_240, 3)\n",
       "┌─────────────┬─────────────────────────────┬──────────────────────┐\n",
       "│ TotalVisits ┆ Total Time Spent on Website ┆ Page Views Per Visit │\n",
       "│ ---         ┆ ---                         ┆ ---                  │\n",
       "│ f64         ┆ f64                         ┆ f64                  │\n",
       "╞═════════════╪═════════════════════════════╪══════════════════════╡\n",
       "│ 0.0         ┆ 0.0                         ┆ 0.0                  │\n",
       "│ 0.01992     ┆ 0.296655                    ┆ 0.045455             │\n",
       "│ 0.007968    ┆ 0.674296                    ┆ 0.036364             │\n",
       "│ 0.003984    ┆ 0.134243                    ┆ 0.018182             │\n",
       "│ 0.007968    ┆ 0.628521                    ┆ 0.018182             │\n",
       "│ …           ┆ …                           ┆ …                    │\n",
       "│ 0.031873    ┆ 0.81206                     ┆ 0.048545             │\n",
       "│ 0.007968    ┆ 0.104754                    ┆ 0.036364             │\n",
       "│ 0.007968    ┆ 0.087588                    ┆ 0.036364             │\n",
       "│ 0.011952    ┆ 0.21963                     ┆ 0.054545             │\n",
       "│ 0.023904    ┆ 0.56294                     ┆ 0.054545             │\n",
       "└─────────────┴─────────────────────────────┴──────────────────────┘"
      ]
     },
     "execution_count": 31,
     "metadata": {},
     "output_type": "execute_result"
    }
   ],
   "source": [
    "numerical_encoding_df"
   ]
  },
  {
   "cell_type": "code",
   "execution_count": 13,
   "id": "c4771829-d0a9-4bb5-8d73-2af8111a730d",
   "metadata": {},
   "outputs": [],
   "source": [
    "#join all together\n",
    "data = pl.concat([categorical_encoding_df,numerical_encoding_df, data.select('Converted')], how='horizontal')"
   ]
  },
  {
   "cell_type": "code",
   "execution_count": 13,
   "id": "a5169a26-9f18-4672-9ee2-7bc4994f1a4e",
   "metadata": {},
   "outputs": [
    {
     "data": {
      "text/html": [
       "<div><style>\n",
       ".dataframe > thead > tr,\n",
       ".dataframe > tbody > tr {\n",
       "  text-align: right;\n",
       "  white-space: pre-wrap;\n",
       "}\n",
       "</style>\n",
       "<small>shape: (9_240, 134)</small><table border=\"1\" class=\"dataframe\"><thead><tr><th>Lead Origin_Landing Page Submission</th><th>Lead Origin_Lead Add Form</th><th>Lead Origin_Lead Import</th><th>Lead Origin_Quick Add Form</th><th>Lead Source_Click2call</th><th>Lead Source_Direct Traffic</th><th>Lead Source_Facebook</th><th>Lead Source_Google</th><th>Lead Source_Live Chat</th><th>Lead Source_NC_EDM</th><th>Lead Source_Organic Search</th><th>Lead Source_Pay per Click Ads</th><th>Lead Source_Press_Release</th><th>Lead Source_Reference</th><th>Lead Source_Referral Sites</th><th>Lead Source_Social Media</th><th>Lead Source_WeLearn</th><th>Lead Source_Welingak Website</th><th>Lead Source_bing</th><th>Lead Source_blog</th><th>Lead Source_google</th><th>Lead Source_testone</th><th>Lead Source_welearnblog_Home</th><th>Lead Source_youtubechannel</th><th>Do Not Email_Yes</th><th>Do Not Call_Yes</th><th>Last Activity_Approached upfront</th><th>Last Activity_Converted to Lead</th><th>Last Activity_Email Bounced</th><th>Last Activity_Email Link Clicked</th><th>Last Activity_Email Marked Spam</th><th>Last Activity_Email Opened</th><th>Last Activity_Email Received</th><th>Last Activity_Form Submitted on Website</th><th>Last Activity_Had a Phone Conversation</th><th>Last Activity_Olark Chat Conversation</th><th>Last Activity_Resubscribed to emails</th><th>&hellip;</th><th>Tags_opp hangup</th><th>Tags_switched off</th><th>Tags_wrong number given</th><th>Lead Quality_High in Relevance</th><th>Lead Quality_Might be</th><th>Lead Quality_None</th><th>Lead Quality_Not Sure</th><th>Lead Quality_Worst</th><th>Lead Profile_Dual Specialization Student</th><th>Lead Profile_Lateral Student</th><th>Lead Profile_Other Leads</th><th>Lead Profile_Potential Lead</th><th>Lead Profile_Student of SomeSchool</th><th>City_Other Cities</th><th>City_Other Cities of Maharashtra</th><th>City_Other Metro Cities</th><th>City_Thane &amp; Outskirts</th><th>City_Tier II Cities</th><th>Last Notable Activity_Approached upfront</th><th>Last Notable Activity_Email Bounced</th><th>Last Notable Activity_Email Link Clicked</th><th>Last Notable Activity_Email Marked Spam</th><th>Last Notable Activity_Email Opened</th><th>Last Notable Activity_Email Received</th><th>Last Notable Activity_Form Submitted on Website</th><th>Last Notable Activity_Had a Phone Conversation</th><th>Last Notable Activity_Olark Chat Conversation</th><th>Last Notable Activity_Page Visited on Website</th><th>Last Notable Activity_Resubscribed to emails</th><th>Last Notable Activity_SMS Sent</th><th>Last Notable Activity_Unreachable</th><th>Last Notable Activity_Unsubscribed</th><th>Last Notable Activity_View in browser link Clicked</th><th>TotalVisits</th><th>Total Time Spent on Website</th><th>Page Views Per Visit</th><th>Converted</th></tr><tr><td>u8</td><td>u8</td><td>u8</td><td>u8</td><td>u8</td><td>u8</td><td>u8</td><td>u8</td><td>u8</td><td>u8</td><td>u8</td><td>u8</td><td>u8</td><td>u8</td><td>u8</td><td>u8</td><td>u8</td><td>u8</td><td>u8</td><td>u8</td><td>u8</td><td>u8</td><td>u8</td><td>u8</td><td>u8</td><td>u8</td><td>u8</td><td>u8</td><td>u8</td><td>u8</td><td>u8</td><td>u8</td><td>u8</td><td>u8</td><td>u8</td><td>u8</td><td>u8</td><td>&hellip;</td><td>u8</td><td>u8</td><td>u8</td><td>u8</td><td>u8</td><td>u8</td><td>u8</td><td>u8</td><td>u8</td><td>u8</td><td>u8</td><td>u8</td><td>u8</td><td>u8</td><td>u8</td><td>u8</td><td>u8</td><td>u8</td><td>u8</td><td>u8</td><td>u8</td><td>u8</td><td>u8</td><td>u8</td><td>u8</td><td>u8</td><td>u8</td><td>u8</td><td>u8</td><td>u8</td><td>u8</td><td>u8</td><td>u8</td><td>f64</td><td>f64</td><td>f64</td><td>i64</td></tr></thead><tbody><tr><td>0</td><td>0</td><td>0</td><td>0</td><td>0</td><td>0</td><td>0</td><td>0</td><td>0</td><td>0</td><td>0</td><td>0</td><td>0</td><td>0</td><td>0</td><td>0</td><td>0</td><td>0</td><td>0</td><td>0</td><td>0</td><td>0</td><td>0</td><td>0</td><td>0</td><td>0</td><td>0</td><td>0</td><td>0</td><td>0</td><td>0</td><td>0</td><td>0</td><td>0</td><td>0</td><td>0</td><td>0</td><td>&hellip;</td><td>0</td><td>0</td><td>0</td><td>0</td><td>0</td><td>0</td><td>0</td><td>0</td><td>0</td><td>0</td><td>0</td><td>0</td><td>0</td><td>0</td><td>0</td><td>0</td><td>0</td><td>0</td><td>0</td><td>0</td><td>0</td><td>0</td><td>0</td><td>0</td><td>0</td><td>0</td><td>0</td><td>0</td><td>0</td><td>0</td><td>0</td><td>0</td><td>0</td><td>0.0</td><td>0.0</td><td>0.0</td><td>0</td></tr><tr><td>0</td><td>0</td><td>0</td><td>0</td><td>0</td><td>0</td><td>0</td><td>0</td><td>0</td><td>0</td><td>1</td><td>0</td><td>0</td><td>0</td><td>0</td><td>0</td><td>0</td><td>0</td><td>0</td><td>0</td><td>0</td><td>0</td><td>0</td><td>0</td><td>0</td><td>0</td><td>0</td><td>0</td><td>0</td><td>0</td><td>0</td><td>1</td><td>0</td><td>0</td><td>0</td><td>0</td><td>0</td><td>&hellip;</td><td>0</td><td>0</td><td>0</td><td>0</td><td>0</td><td>1</td><td>0</td><td>0</td><td>0</td><td>0</td><td>0</td><td>0</td><td>0</td><td>0</td><td>0</td><td>0</td><td>0</td><td>0</td><td>0</td><td>0</td><td>0</td><td>0</td><td>1</td><td>0</td><td>0</td><td>0</td><td>0</td><td>0</td><td>0</td><td>0</td><td>0</td><td>0</td><td>0</td><td>0.01992</td><td>0.296655</td><td>0.045455</td><td>0</td></tr><tr><td>1</td><td>0</td><td>0</td><td>0</td><td>0</td><td>1</td><td>0</td><td>0</td><td>0</td><td>0</td><td>0</td><td>0</td><td>0</td><td>0</td><td>0</td><td>0</td><td>0</td><td>0</td><td>0</td><td>0</td><td>0</td><td>0</td><td>0</td><td>0</td><td>0</td><td>0</td><td>0</td><td>0</td><td>0</td><td>0</td><td>0</td><td>1</td><td>0</td><td>0</td><td>0</td><td>0</td><td>0</td><td>&hellip;</td><td>0</td><td>0</td><td>0</td><td>0</td><td>1</td><td>0</td><td>0</td><td>0</td><td>0</td><td>0</td><td>0</td><td>1</td><td>0</td><td>0</td><td>0</td><td>0</td><td>0</td><td>0</td><td>0</td><td>0</td><td>0</td><td>0</td><td>1</td><td>0</td><td>0</td><td>0</td><td>0</td><td>0</td><td>0</td><td>0</td><td>0</td><td>0</td><td>0</td><td>0.007968</td><td>0.674296</td><td>0.036364</td><td>1</td></tr><tr><td>1</td><td>0</td><td>0</td><td>0</td><td>0</td><td>1</td><td>0</td><td>0</td><td>0</td><td>0</td><td>0</td><td>0</td><td>0</td><td>0</td><td>0</td><td>0</td><td>0</td><td>0</td><td>0</td><td>0</td><td>0</td><td>0</td><td>0</td><td>0</td><td>0</td><td>0</td><td>0</td><td>0</td><td>0</td><td>0</td><td>0</td><td>0</td><td>0</td><td>0</td><td>0</td><td>0</td><td>0</td><td>&hellip;</td><td>0</td><td>0</td><td>0</td><td>0</td><td>0</td><td>0</td><td>1</td><td>0</td><td>0</td><td>0</td><td>0</td><td>0</td><td>0</td><td>0</td><td>0</td><td>0</td><td>0</td><td>0</td><td>0</td><td>0</td><td>0</td><td>0</td><td>0</td><td>0</td><td>0</td><td>0</td><td>0</td><td>0</td><td>0</td><td>0</td><td>0</td><td>0</td><td>0</td><td>0.003984</td><td>0.134243</td><td>0.018182</td><td>0</td></tr><tr><td>1</td><td>0</td><td>0</td><td>0</td><td>0</td><td>0</td><td>0</td><td>1</td><td>0</td><td>0</td><td>0</td><td>0</td><td>0</td><td>0</td><td>0</td><td>0</td><td>0</td><td>0</td><td>0</td><td>0</td><td>0</td><td>0</td><td>0</td><td>0</td><td>0</td><td>0</td><td>0</td><td>1</td><td>0</td><td>0</td><td>0</td><td>0</td><td>0</td><td>0</td><td>0</td><td>0</td><td>0</td><td>&hellip;</td><td>0</td><td>0</td><td>0</td><td>0</td><td>1</td><td>0</td><td>0</td><td>0</td><td>0</td><td>0</td><td>0</td><td>0</td><td>0</td><td>0</td><td>0</td><td>0</td><td>0</td><td>0</td><td>0</td><td>0</td><td>0</td><td>0</td><td>0</td><td>0</td><td>0</td><td>0</td><td>0</td><td>0</td><td>0</td><td>0</td><td>0</td><td>0</td><td>0</td><td>0.007968</td><td>0.628521</td><td>0.018182</td><td>1</td></tr><tr><td>&hellip;</td><td>&hellip;</td><td>&hellip;</td><td>&hellip;</td><td>&hellip;</td><td>&hellip;</td><td>&hellip;</td><td>&hellip;</td><td>&hellip;</td><td>&hellip;</td><td>&hellip;</td><td>&hellip;</td><td>&hellip;</td><td>&hellip;</td><td>&hellip;</td><td>&hellip;</td><td>&hellip;</td><td>&hellip;</td><td>&hellip;</td><td>&hellip;</td><td>&hellip;</td><td>&hellip;</td><td>&hellip;</td><td>&hellip;</td><td>&hellip;</td><td>&hellip;</td><td>&hellip;</td><td>&hellip;</td><td>&hellip;</td><td>&hellip;</td><td>&hellip;</td><td>&hellip;</td><td>&hellip;</td><td>&hellip;</td><td>&hellip;</td><td>&hellip;</td><td>&hellip;</td><td>&hellip;</td><td>&hellip;</td><td>&hellip;</td><td>&hellip;</td><td>&hellip;</td><td>&hellip;</td><td>&hellip;</td><td>&hellip;</td><td>&hellip;</td><td>&hellip;</td><td>&hellip;</td><td>&hellip;</td><td>&hellip;</td><td>&hellip;</td><td>&hellip;</td><td>&hellip;</td><td>&hellip;</td><td>&hellip;</td><td>&hellip;</td><td>&hellip;</td><td>&hellip;</td><td>&hellip;</td><td>&hellip;</td><td>&hellip;</td><td>&hellip;</td><td>&hellip;</td><td>&hellip;</td><td>&hellip;</td><td>&hellip;</td><td>&hellip;</td><td>&hellip;</td><td>&hellip;</td><td>&hellip;</td><td>&hellip;</td><td>&hellip;</td><td>&hellip;</td><td>&hellip;</td><td>&hellip;</td></tr><tr><td>1</td><td>0</td><td>0</td><td>0</td><td>0</td><td>1</td><td>0</td><td>0</td><td>0</td><td>0</td><td>0</td><td>0</td><td>0</td><td>0</td><td>0</td><td>0</td><td>0</td><td>0</td><td>0</td><td>0</td><td>0</td><td>0</td><td>0</td><td>0</td><td>1</td><td>0</td><td>0</td><td>0</td><td>0</td><td>0</td><td>1</td><td>0</td><td>0</td><td>0</td><td>0</td><td>0</td><td>0</td><td>&hellip;</td><td>0</td><td>0</td><td>0</td><td>1</td><td>0</td><td>0</td><td>0</td><td>0</td><td>0</td><td>0</td><td>0</td><td>1</td><td>0</td><td>0</td><td>0</td><td>0</td><td>0</td><td>0</td><td>0</td><td>0</td><td>0</td><td>1</td><td>0</td><td>0</td><td>0</td><td>0</td><td>0</td><td>0</td><td>0</td><td>0</td><td>0</td><td>0</td><td>0</td><td>0.031873</td><td>0.81206</td><td>0.048545</td><td>1</td></tr><tr><td>1</td><td>0</td><td>0</td><td>0</td><td>0</td><td>1</td><td>0</td><td>0</td><td>0</td><td>0</td><td>0</td><td>0</td><td>0</td><td>0</td><td>0</td><td>0</td><td>0</td><td>0</td><td>0</td><td>0</td><td>0</td><td>0</td><td>0</td><td>0</td><td>0</td><td>0</td><td>0</td><td>0</td><td>0</td><td>0</td><td>0</td><td>0</td><td>0</td><td>0</td><td>0</td><td>0</td><td>0</td><td>&hellip;</td><td>0</td><td>0</td><td>1</td><td>0</td><td>1</td><td>0</td><td>0</td><td>0</td><td>0</td><td>0</td><td>0</td><td>1</td><td>0</td><td>0</td><td>0</td><td>0</td><td>0</td><td>0</td><td>0</td><td>0</td><td>0</td><td>0</td><td>0</td><td>0</td><td>0</td><td>0</td><td>0</td><td>0</td><td>0</td><td>1</td><td>0</td><td>0</td><td>0</td><td>0.007968</td><td>0.104754</td><td>0.036364</td><td>0</td></tr><tr><td>1</td><td>0</td><td>0</td><td>0</td><td>0</td><td>1</td><td>0</td><td>0</td><td>0</td><td>0</td><td>0</td><td>0</td><td>0</td><td>0</td><td>0</td><td>0</td><td>0</td><td>0</td><td>0</td><td>0</td><td>0</td><td>0</td><td>0</td><td>0</td><td>1</td><td>0</td><td>0</td><td>0</td><td>0</td><td>0</td><td>0</td><td>0</td><td>0</td><td>0</td><td>0</td><td>0</td><td>0</td><td>&hellip;</td><td>0</td><td>0</td><td>0</td><td>0</td><td>0</td><td>0</td><td>1</td><td>0</td><td>0</td><td>0</td><td>0</td><td>1</td><td>0</td><td>0</td><td>0</td><td>0</td><td>0</td><td>0</td><td>0</td><td>0</td><td>0</td><td>0</td><td>0</td><td>0</td><td>0</td><td>0</td><td>0</td><td>0</td><td>0</td><td>1</td><td>0</td><td>0</td><td>0</td><td>0.007968</td><td>0.087588</td><td>0.036364</td><td>0</td></tr><tr><td>1</td><td>0</td><td>0</td><td>0</td><td>0</td><td>0</td><td>0</td><td>1</td><td>0</td><td>0</td><td>0</td><td>0</td><td>0</td><td>0</td><td>0</td><td>0</td><td>0</td><td>0</td><td>0</td><td>0</td><td>0</td><td>0</td><td>0</td><td>0</td><td>0</td><td>0</td><td>0</td><td>0</td><td>0</td><td>0</td><td>0</td><td>0</td><td>0</td><td>0</td><td>0</td><td>0</td><td>0</td><td>&hellip;</td><td>0</td><td>0</td><td>0</td><td>0</td><td>0</td><td>1</td><td>0</td><td>0</td><td>0</td><td>0</td><td>0</td><td>0</td><td>0</td><td>0</td><td>0</td><td>1</td><td>0</td><td>0</td><td>0</td><td>0</td><td>0</td><td>0</td><td>0</td><td>0</td><td>0</td><td>0</td><td>0</td><td>0</td><td>0</td><td>1</td><td>0</td><td>0</td><td>0</td><td>0.011952</td><td>0.21963</td><td>0.054545</td><td>1</td></tr><tr><td>1</td><td>0</td><td>0</td><td>0</td><td>0</td><td>1</td><td>0</td><td>0</td><td>0</td><td>0</td><td>0</td><td>0</td><td>0</td><td>0</td><td>0</td><td>0</td><td>0</td><td>0</td><td>0</td><td>0</td><td>0</td><td>0</td><td>0</td><td>0</td><td>0</td><td>0</td><td>0</td><td>0</td><td>0</td><td>0</td><td>0</td><td>0</td><td>0</td><td>0</td><td>0</td><td>0</td><td>0</td><td>&hellip;</td><td>0</td><td>0</td><td>0</td><td>0</td><td>1</td><td>0</td><td>0</td><td>0</td><td>0</td><td>0</td><td>0</td><td>1</td><td>0</td><td>1</td><td>0</td><td>0</td><td>0</td><td>0</td><td>0</td><td>0</td><td>0</td><td>0</td><td>0</td><td>0</td><td>0</td><td>0</td><td>0</td><td>0</td><td>0</td><td>0</td><td>0</td><td>0</td><td>0</td><td>0.023904</td><td>0.56294</td><td>0.054545</td><td>1</td></tr></tbody></table></div>"
      ],
      "text/plain": [
       "shape: (9_240, 134)\n",
       "┌────────────┬────────────┬───────────┬───────────┬───┬───────────┬───────────┬───────────┬───────────┐\n",
       "│ Lead Origi ┆ Lead Origi ┆ Lead Orig ┆ Lead Orig ┆ … ┆ TotalVisi ┆ Total     ┆ Page      ┆ Converted │\n",
       "│ n_Landing  ┆ n_Lead Add ┆ in_Lead   ┆ in_Quick  ┆   ┆ ts        ┆ Time      ┆ Views Per ┆ ---       │\n",
       "│ Page       ┆ Form       ┆ Import    ┆ Add Form  ┆   ┆ ---       ┆ Spent on  ┆ Visit     ┆ i64       │\n",
       "│ Submi…     ┆ ---        ┆ ---       ┆ ---       ┆   ┆ f64       ┆ Website   ┆ ---       ┆           │\n",
       "│ ---        ┆ u8         ┆ u8        ┆ u8        ┆   ┆           ┆ ---       ┆ f64       ┆           │\n",
       "│ u8         ┆            ┆           ┆           ┆   ┆           ┆ f64       ┆           ┆           │\n",
       "╞════════════╪════════════╪═══════════╪═══════════╪═══╪═══════════╪═══════════╪═══════════╪═══════════╡\n",
       "│ 0          ┆ 0          ┆ 0         ┆ 0         ┆ … ┆ 0.0       ┆ 0.0       ┆ 0.0       ┆ 0         │\n",
       "│ 0          ┆ 0          ┆ 0         ┆ 0         ┆ … ┆ 0.01992   ┆ 0.296655  ┆ 0.045455  ┆ 0         │\n",
       "│ 1          ┆ 0          ┆ 0         ┆ 0         ┆ … ┆ 0.007968  ┆ 0.674296  ┆ 0.036364  ┆ 1         │\n",
       "│ 1          ┆ 0          ┆ 0         ┆ 0         ┆ … ┆ 0.003984  ┆ 0.134243  ┆ 0.018182  ┆ 0         │\n",
       "│ 1          ┆ 0          ┆ 0         ┆ 0         ┆ … ┆ 0.007968  ┆ 0.628521  ┆ 0.018182  ┆ 1         │\n",
       "│ …          ┆ …          ┆ …         ┆ …         ┆ … ┆ …         ┆ …         ┆ …         ┆ …         │\n",
       "│ 1          ┆ 0          ┆ 0         ┆ 0         ┆ … ┆ 0.031873  ┆ 0.81206   ┆ 0.048545  ┆ 1         │\n",
       "│ 1          ┆ 0          ┆ 0         ┆ 0         ┆ … ┆ 0.007968  ┆ 0.104754  ┆ 0.036364  ┆ 0         │\n",
       "│ 1          ┆ 0          ┆ 0         ┆ 0         ┆ … ┆ 0.007968  ┆ 0.087588  ┆ 0.036364  ┆ 0         │\n",
       "│ 1          ┆ 0          ┆ 0         ┆ 0         ┆ … ┆ 0.011952  ┆ 0.21963   ┆ 0.054545  ┆ 1         │\n",
       "│ 1          ┆ 0          ┆ 0         ┆ 0         ┆ … ┆ 0.023904  ┆ 0.56294   ┆ 0.054545  ┆ 1         │\n",
       "└────────────┴────────────┴───────────┴───────────┴───┴───────────┴───────────┴───────────┴───────────┘"
      ]
     },
     "execution_count": 13,
     "metadata": {},
     "output_type": "execute_result"
    }
   ],
   "source": [
    "data"
   ]
  },
  {
   "cell_type": "code",
   "execution_count": null,
   "id": "f9e4f4b2-5ef1-4c12-a6fe-ec367f80c0c7",
   "metadata": {},
   "outputs": [],
   "source": [
    "#importance "
   ]
  },
  {
   "cell_type": "code",
   "execution_count": 29,
   "id": "28fac63e-58d2-4422-8787-c412bd33c049",
   "metadata": {},
   "outputs": [
    {
     "data": {
      "text/html": [
       "<div><style>\n",
       ".dataframe > thead > tr,\n",
       ".dataframe > tbody > tr {\n",
       "  text-align: right;\n",
       "  white-space: pre-wrap;\n",
       "}\n",
       "</style>\n",
       "<small>shape: (9_240, 134)</small><table border=\"1\" class=\"dataframe\"><thead><tr><th>Lead Origin_Landing Page Submission</th><th>Lead Origin_Lead Add Form</th><th>Lead Origin_Lead Import</th><th>Lead Origin_Quick Add Form</th><th>Lead Source_Click2call</th><th>Lead Source_Direct Traffic</th><th>Lead Source_Facebook</th><th>Lead Source_Google</th><th>Lead Source_Live Chat</th><th>Lead Source_NC_EDM</th><th>Lead Source_Organic Search</th><th>Lead Source_Pay per Click Ads</th><th>Lead Source_Press_Release</th><th>Lead Source_Reference</th><th>Lead Source_Referral Sites</th><th>Lead Source_Social Media</th><th>Lead Source_WeLearn</th><th>Lead Source_Welingak Website</th><th>Lead Source_bing</th><th>Lead Source_blog</th><th>Lead Source_google</th><th>Lead Source_testone</th><th>Lead Source_welearnblog_Home</th><th>Lead Source_youtubechannel</th><th>Do Not Email_Yes</th><th>Do Not Call_Yes</th><th>Last Activity_Approached upfront</th><th>Last Activity_Converted to Lead</th><th>Last Activity_Email Bounced</th><th>Last Activity_Email Link Clicked</th><th>Last Activity_Email Marked Spam</th><th>Last Activity_Email Opened</th><th>Last Activity_Email Received</th><th>Last Activity_Form Submitted on Website</th><th>Last Activity_Had a Phone Conversation</th><th>Last Activity_Olark Chat Conversation</th><th>Last Activity_Resubscribed to emails</th><th>&hellip;</th><th>Tags_opp hangup</th><th>Tags_switched off</th><th>Tags_wrong number given</th><th>Lead Quality_High in Relevance</th><th>Lead Quality_Might be</th><th>Lead Quality_None</th><th>Lead Quality_Not Sure</th><th>Lead Quality_Worst</th><th>Lead Profile_Dual Specialization Student</th><th>Lead Profile_Lateral Student</th><th>Lead Profile_Other Leads</th><th>Lead Profile_Potential Lead</th><th>Lead Profile_Student of SomeSchool</th><th>City_Other Cities</th><th>City_Other Cities of Maharashtra</th><th>City_Other Metro Cities</th><th>City_Thane &amp; Outskirts</th><th>City_Tier II Cities</th><th>Last Notable Activity_Approached upfront</th><th>Last Notable Activity_Email Bounced</th><th>Last Notable Activity_Email Link Clicked</th><th>Last Notable Activity_Email Marked Spam</th><th>Last Notable Activity_Email Opened</th><th>Last Notable Activity_Email Received</th><th>Last Notable Activity_Form Submitted on Website</th><th>Last Notable Activity_Had a Phone Conversation</th><th>Last Notable Activity_Olark Chat Conversation</th><th>Last Notable Activity_Page Visited on Website</th><th>Last Notable Activity_Resubscribed to emails</th><th>Last Notable Activity_SMS Sent</th><th>Last Notable Activity_Unreachable</th><th>Last Notable Activity_Unsubscribed</th><th>Last Notable Activity_View in browser link Clicked</th><th>TotalVisits</th><th>Total Time Spent on Website</th><th>Page Views Per Visit</th><th>Converted</th></tr><tr><td>u8</td><td>u8</td><td>u8</td><td>u8</td><td>u8</td><td>u8</td><td>u8</td><td>u8</td><td>u8</td><td>u8</td><td>u8</td><td>u8</td><td>u8</td><td>u8</td><td>u8</td><td>u8</td><td>u8</td><td>u8</td><td>u8</td><td>u8</td><td>u8</td><td>u8</td><td>u8</td><td>u8</td><td>u8</td><td>u8</td><td>u8</td><td>u8</td><td>u8</td><td>u8</td><td>u8</td><td>u8</td><td>u8</td><td>u8</td><td>u8</td><td>u8</td><td>u8</td><td>&hellip;</td><td>u8</td><td>u8</td><td>u8</td><td>u8</td><td>u8</td><td>u8</td><td>u8</td><td>u8</td><td>u8</td><td>u8</td><td>u8</td><td>u8</td><td>u8</td><td>u8</td><td>u8</td><td>u8</td><td>u8</td><td>u8</td><td>u8</td><td>u8</td><td>u8</td><td>u8</td><td>u8</td><td>u8</td><td>u8</td><td>u8</td><td>u8</td><td>u8</td><td>u8</td><td>u8</td><td>u8</td><td>u8</td><td>u8</td><td>f64</td><td>f64</td><td>f64</td><td>i64</td></tr></thead><tbody><tr><td>0</td><td>0</td><td>0</td><td>0</td><td>0</td><td>0</td><td>0</td><td>0</td><td>0</td><td>0</td><td>0</td><td>0</td><td>0</td><td>0</td><td>0</td><td>0</td><td>0</td><td>0</td><td>0</td><td>0</td><td>0</td><td>0</td><td>0</td><td>0</td><td>0</td><td>0</td><td>0</td><td>0</td><td>0</td><td>0</td><td>0</td><td>0</td><td>0</td><td>0</td><td>0</td><td>0</td><td>0</td><td>&hellip;</td><td>0</td><td>0</td><td>0</td><td>0</td><td>0</td><td>0</td><td>0</td><td>0</td><td>0</td><td>0</td><td>0</td><td>0</td><td>0</td><td>0</td><td>0</td><td>0</td><td>0</td><td>0</td><td>0</td><td>0</td><td>0</td><td>0</td><td>0</td><td>0</td><td>0</td><td>0</td><td>0</td><td>0</td><td>0</td><td>0</td><td>0</td><td>0</td><td>0</td><td>0.0</td><td>0.0</td><td>0.0</td><td>0</td></tr><tr><td>0</td><td>0</td><td>0</td><td>0</td><td>0</td><td>0</td><td>0</td><td>0</td><td>0</td><td>0</td><td>1</td><td>0</td><td>0</td><td>0</td><td>0</td><td>0</td><td>0</td><td>0</td><td>0</td><td>0</td><td>0</td><td>0</td><td>0</td><td>0</td><td>0</td><td>0</td><td>0</td><td>0</td><td>0</td><td>0</td><td>0</td><td>1</td><td>0</td><td>0</td><td>0</td><td>0</td><td>0</td><td>&hellip;</td><td>0</td><td>0</td><td>0</td><td>0</td><td>0</td><td>1</td><td>0</td><td>0</td><td>0</td><td>0</td><td>0</td><td>0</td><td>0</td><td>0</td><td>0</td><td>0</td><td>0</td><td>0</td><td>0</td><td>0</td><td>0</td><td>0</td><td>1</td><td>0</td><td>0</td><td>0</td><td>0</td><td>0</td><td>0</td><td>0</td><td>0</td><td>0</td><td>0</td><td>0.01992</td><td>0.296655</td><td>0.045455</td><td>0</td></tr><tr><td>1</td><td>0</td><td>0</td><td>0</td><td>0</td><td>1</td><td>0</td><td>0</td><td>0</td><td>0</td><td>0</td><td>0</td><td>0</td><td>0</td><td>0</td><td>0</td><td>0</td><td>0</td><td>0</td><td>0</td><td>0</td><td>0</td><td>0</td><td>0</td><td>0</td><td>0</td><td>0</td><td>0</td><td>0</td><td>0</td><td>0</td><td>1</td><td>0</td><td>0</td><td>0</td><td>0</td><td>0</td><td>&hellip;</td><td>0</td><td>0</td><td>0</td><td>0</td><td>1</td><td>0</td><td>0</td><td>0</td><td>0</td><td>0</td><td>0</td><td>1</td><td>0</td><td>0</td><td>0</td><td>0</td><td>0</td><td>0</td><td>0</td><td>0</td><td>0</td><td>0</td><td>1</td><td>0</td><td>0</td><td>0</td><td>0</td><td>0</td><td>0</td><td>0</td><td>0</td><td>0</td><td>0</td><td>0.007968</td><td>0.674296</td><td>0.036364</td><td>1</td></tr><tr><td>1</td><td>0</td><td>0</td><td>0</td><td>0</td><td>1</td><td>0</td><td>0</td><td>0</td><td>0</td><td>0</td><td>0</td><td>0</td><td>0</td><td>0</td><td>0</td><td>0</td><td>0</td><td>0</td><td>0</td><td>0</td><td>0</td><td>0</td><td>0</td><td>0</td><td>0</td><td>0</td><td>0</td><td>0</td><td>0</td><td>0</td><td>0</td><td>0</td><td>0</td><td>0</td><td>0</td><td>0</td><td>&hellip;</td><td>0</td><td>0</td><td>0</td><td>0</td><td>0</td><td>0</td><td>1</td><td>0</td><td>0</td><td>0</td><td>0</td><td>0</td><td>0</td><td>0</td><td>0</td><td>0</td><td>0</td><td>0</td><td>0</td><td>0</td><td>0</td><td>0</td><td>0</td><td>0</td><td>0</td><td>0</td><td>0</td><td>0</td><td>0</td><td>0</td><td>0</td><td>0</td><td>0</td><td>0.003984</td><td>0.134243</td><td>0.018182</td><td>0</td></tr><tr><td>1</td><td>0</td><td>0</td><td>0</td><td>0</td><td>0</td><td>0</td><td>1</td><td>0</td><td>0</td><td>0</td><td>0</td><td>0</td><td>0</td><td>0</td><td>0</td><td>0</td><td>0</td><td>0</td><td>0</td><td>0</td><td>0</td><td>0</td><td>0</td><td>0</td><td>0</td><td>0</td><td>1</td><td>0</td><td>0</td><td>0</td><td>0</td><td>0</td><td>0</td><td>0</td><td>0</td><td>0</td><td>&hellip;</td><td>0</td><td>0</td><td>0</td><td>0</td><td>1</td><td>0</td><td>0</td><td>0</td><td>0</td><td>0</td><td>0</td><td>0</td><td>0</td><td>0</td><td>0</td><td>0</td><td>0</td><td>0</td><td>0</td><td>0</td><td>0</td><td>0</td><td>0</td><td>0</td><td>0</td><td>0</td><td>0</td><td>0</td><td>0</td><td>0</td><td>0</td><td>0</td><td>0</td><td>0.007968</td><td>0.628521</td><td>0.018182</td><td>1</td></tr><tr><td>&hellip;</td><td>&hellip;</td><td>&hellip;</td><td>&hellip;</td><td>&hellip;</td><td>&hellip;</td><td>&hellip;</td><td>&hellip;</td><td>&hellip;</td><td>&hellip;</td><td>&hellip;</td><td>&hellip;</td><td>&hellip;</td><td>&hellip;</td><td>&hellip;</td><td>&hellip;</td><td>&hellip;</td><td>&hellip;</td><td>&hellip;</td><td>&hellip;</td><td>&hellip;</td><td>&hellip;</td><td>&hellip;</td><td>&hellip;</td><td>&hellip;</td><td>&hellip;</td><td>&hellip;</td><td>&hellip;</td><td>&hellip;</td><td>&hellip;</td><td>&hellip;</td><td>&hellip;</td><td>&hellip;</td><td>&hellip;</td><td>&hellip;</td><td>&hellip;</td><td>&hellip;</td><td>&hellip;</td><td>&hellip;</td><td>&hellip;</td><td>&hellip;</td><td>&hellip;</td><td>&hellip;</td><td>&hellip;</td><td>&hellip;</td><td>&hellip;</td><td>&hellip;</td><td>&hellip;</td><td>&hellip;</td><td>&hellip;</td><td>&hellip;</td><td>&hellip;</td><td>&hellip;</td><td>&hellip;</td><td>&hellip;</td><td>&hellip;</td><td>&hellip;</td><td>&hellip;</td><td>&hellip;</td><td>&hellip;</td><td>&hellip;</td><td>&hellip;</td><td>&hellip;</td><td>&hellip;</td><td>&hellip;</td><td>&hellip;</td><td>&hellip;</td><td>&hellip;</td><td>&hellip;</td><td>&hellip;</td><td>&hellip;</td><td>&hellip;</td><td>&hellip;</td><td>&hellip;</td><td>&hellip;</td></tr><tr><td>1</td><td>0</td><td>0</td><td>0</td><td>0</td><td>1</td><td>0</td><td>0</td><td>0</td><td>0</td><td>0</td><td>0</td><td>0</td><td>0</td><td>0</td><td>0</td><td>0</td><td>0</td><td>0</td><td>0</td><td>0</td><td>0</td><td>0</td><td>0</td><td>1</td><td>0</td><td>0</td><td>0</td><td>0</td><td>0</td><td>1</td><td>0</td><td>0</td><td>0</td><td>0</td><td>0</td><td>0</td><td>&hellip;</td><td>0</td><td>0</td><td>0</td><td>1</td><td>0</td><td>0</td><td>0</td><td>0</td><td>0</td><td>0</td><td>0</td><td>1</td><td>0</td><td>0</td><td>0</td><td>0</td><td>0</td><td>0</td><td>0</td><td>0</td><td>0</td><td>1</td><td>0</td><td>0</td><td>0</td><td>0</td><td>0</td><td>0</td><td>0</td><td>0</td><td>0</td><td>0</td><td>0</td><td>0.031873</td><td>0.81206</td><td>0.048545</td><td>1</td></tr><tr><td>1</td><td>0</td><td>0</td><td>0</td><td>0</td><td>1</td><td>0</td><td>0</td><td>0</td><td>0</td><td>0</td><td>0</td><td>0</td><td>0</td><td>0</td><td>0</td><td>0</td><td>0</td><td>0</td><td>0</td><td>0</td><td>0</td><td>0</td><td>0</td><td>0</td><td>0</td><td>0</td><td>0</td><td>0</td><td>0</td><td>0</td><td>0</td><td>0</td><td>0</td><td>0</td><td>0</td><td>0</td><td>&hellip;</td><td>0</td><td>0</td><td>1</td><td>0</td><td>1</td><td>0</td><td>0</td><td>0</td><td>0</td><td>0</td><td>0</td><td>1</td><td>0</td><td>0</td><td>0</td><td>0</td><td>0</td><td>0</td><td>0</td><td>0</td><td>0</td><td>0</td><td>0</td><td>0</td><td>0</td><td>0</td><td>0</td><td>0</td><td>0</td><td>1</td><td>0</td><td>0</td><td>0</td><td>0.007968</td><td>0.104754</td><td>0.036364</td><td>0</td></tr><tr><td>1</td><td>0</td><td>0</td><td>0</td><td>0</td><td>1</td><td>0</td><td>0</td><td>0</td><td>0</td><td>0</td><td>0</td><td>0</td><td>0</td><td>0</td><td>0</td><td>0</td><td>0</td><td>0</td><td>0</td><td>0</td><td>0</td><td>0</td><td>0</td><td>1</td><td>0</td><td>0</td><td>0</td><td>0</td><td>0</td><td>0</td><td>0</td><td>0</td><td>0</td><td>0</td><td>0</td><td>0</td><td>&hellip;</td><td>0</td><td>0</td><td>0</td><td>0</td><td>0</td><td>0</td><td>1</td><td>0</td><td>0</td><td>0</td><td>0</td><td>1</td><td>0</td><td>0</td><td>0</td><td>0</td><td>0</td><td>0</td><td>0</td><td>0</td><td>0</td><td>0</td><td>0</td><td>0</td><td>0</td><td>0</td><td>0</td><td>0</td><td>0</td><td>1</td><td>0</td><td>0</td><td>0</td><td>0.007968</td><td>0.087588</td><td>0.036364</td><td>0</td></tr><tr><td>1</td><td>0</td><td>0</td><td>0</td><td>0</td><td>0</td><td>0</td><td>1</td><td>0</td><td>0</td><td>0</td><td>0</td><td>0</td><td>0</td><td>0</td><td>0</td><td>0</td><td>0</td><td>0</td><td>0</td><td>0</td><td>0</td><td>0</td><td>0</td><td>0</td><td>0</td><td>0</td><td>0</td><td>0</td><td>0</td><td>0</td><td>0</td><td>0</td><td>0</td><td>0</td><td>0</td><td>0</td><td>&hellip;</td><td>0</td><td>0</td><td>0</td><td>0</td><td>0</td><td>1</td><td>0</td><td>0</td><td>0</td><td>0</td><td>0</td><td>0</td><td>0</td><td>0</td><td>0</td><td>1</td><td>0</td><td>0</td><td>0</td><td>0</td><td>0</td><td>0</td><td>0</td><td>0</td><td>0</td><td>0</td><td>0</td><td>0</td><td>0</td><td>1</td><td>0</td><td>0</td><td>0</td><td>0.011952</td><td>0.21963</td><td>0.054545</td><td>1</td></tr><tr><td>1</td><td>0</td><td>0</td><td>0</td><td>0</td><td>1</td><td>0</td><td>0</td><td>0</td><td>0</td><td>0</td><td>0</td><td>0</td><td>0</td><td>0</td><td>0</td><td>0</td><td>0</td><td>0</td><td>0</td><td>0</td><td>0</td><td>0</td><td>0</td><td>0</td><td>0</td><td>0</td><td>0</td><td>0</td><td>0</td><td>0</td><td>0</td><td>0</td><td>0</td><td>0</td><td>0</td><td>0</td><td>&hellip;</td><td>0</td><td>0</td><td>0</td><td>0</td><td>1</td><td>0</td><td>0</td><td>0</td><td>0</td><td>0</td><td>0</td><td>1</td><td>0</td><td>1</td><td>0</td><td>0</td><td>0</td><td>0</td><td>0</td><td>0</td><td>0</td><td>0</td><td>0</td><td>0</td><td>0</td><td>0</td><td>0</td><td>0</td><td>0</td><td>0</td><td>0</td><td>0</td><td>0</td><td>0.023904</td><td>0.56294</td><td>0.054545</td><td>1</td></tr></tbody></table></div>"
      ],
      "text/plain": [
       "shape: (9_240, 134)\n",
       "┌────────────┬────────────┬───────────┬───────────┬───┬───────────┬───────────┬───────────┬───────────┐\n",
       "│ Lead Origi ┆ Lead Origi ┆ Lead Orig ┆ Lead Orig ┆ … ┆ TotalVisi ┆ Total     ┆ Page      ┆ Converted │\n",
       "│ n_Landing  ┆ n_Lead Add ┆ in_Lead   ┆ in_Quick  ┆   ┆ ts        ┆ Time      ┆ Views Per ┆ ---       │\n",
       "│ Page       ┆ Form       ┆ Import    ┆ Add Form  ┆   ┆ ---       ┆ Spent on  ┆ Visit     ┆ i64       │\n",
       "│ Submi…     ┆ ---        ┆ ---       ┆ ---       ┆   ┆ f64       ┆ Website   ┆ ---       ┆           │\n",
       "│ ---        ┆ u8         ┆ u8        ┆ u8        ┆   ┆           ┆ ---       ┆ f64       ┆           │\n",
       "│ u8         ┆            ┆           ┆           ┆   ┆           ┆ f64       ┆           ┆           │\n",
       "╞════════════╪════════════╪═══════════╪═══════════╪═══╪═══════════╪═══════════╪═══════════╪═══════════╡\n",
       "│ 0          ┆ 0          ┆ 0         ┆ 0         ┆ … ┆ 0.0       ┆ 0.0       ┆ 0.0       ┆ 0         │\n",
       "│ 0          ┆ 0          ┆ 0         ┆ 0         ┆ … ┆ 0.01992   ┆ 0.296655  ┆ 0.045455  ┆ 0         │\n",
       "│ 1          ┆ 0          ┆ 0         ┆ 0         ┆ … ┆ 0.007968  ┆ 0.674296  ┆ 0.036364  ┆ 1         │\n",
       "│ 1          ┆ 0          ┆ 0         ┆ 0         ┆ … ┆ 0.003984  ┆ 0.134243  ┆ 0.018182  ┆ 0         │\n",
       "│ 1          ┆ 0          ┆ 0         ┆ 0         ┆ … ┆ 0.007968  ┆ 0.628521  ┆ 0.018182  ┆ 1         │\n",
       "│ …          ┆ …          ┆ …         ┆ …         ┆ … ┆ …         ┆ …         ┆ …         ┆ …         │\n",
       "│ 1          ┆ 0          ┆ 0         ┆ 0         ┆ … ┆ 0.031873  ┆ 0.81206   ┆ 0.048545  ┆ 1         │\n",
       "│ 1          ┆ 0          ┆ 0         ┆ 0         ┆ … ┆ 0.007968  ┆ 0.104754  ┆ 0.036364  ┆ 0         │\n",
       "│ 1          ┆ 0          ┆ 0         ┆ 0         ┆ … ┆ 0.007968  ┆ 0.087588  ┆ 0.036364  ┆ 0         │\n",
       "│ 1          ┆ 0          ┆ 0         ┆ 0         ┆ … ┆ 0.011952  ┆ 0.21963   ┆ 0.054545  ┆ 1         │\n",
       "│ 1          ┆ 0          ┆ 0         ┆ 0         ┆ … ┆ 0.023904  ┆ 0.56294   ┆ 0.054545  ┆ 1         │\n",
       "└────────────┴────────────┴───────────┴───────────┴───┴───────────┴───────────┴───────────┴───────────┘"
      ]
     },
     "execution_count": 29,
     "metadata": {},
     "output_type": "execute_result"
    }
   ],
   "source": [
    "data"
   ]
  },
  {
   "cell_type": "code",
   "execution_count": 14,
   "id": "486b9f2e-60b9-479f-9b5b-03c7d1ff94ce",
   "metadata": {},
   "outputs": [
    {
     "ename": "NameError",
     "evalue": "name 'remaining_engineered_features' is not defined",
     "output_type": "error",
     "traceback": [
      "\u001b[1;31m---------------------------------------------------------------------------\u001b[0m",
      "\u001b[1;31mNameError\u001b[0m                                 Traceback (most recent call last)",
      "Cell \u001b[1;32mIn[14], line 2\u001b[0m\n\u001b[0;32m      1\u001b[0m scores \u001b[38;5;241m=\u001b[39m []\n\u001b[1;32m----> 2\u001b[0m \u001b[38;5;28;01mfor\u001b[39;00m f \u001b[38;5;129;01min\u001b[39;00m \u001b[43mremaining_engineered_features\u001b[49m:\n\u001b[0;32m      3\u001b[0m     \u001b[38;5;28mprint\u001b[39m(\u001b[38;5;124m\"\u001b[39m\u001b[38;5;124mFeature Analysis:\u001b[39m\u001b[38;5;124m\"\u001b[39m, f)\n\u001b[0;32m      4\u001b[0m     score \u001b[38;5;241m=\u001b[39m feature_predictive_power(graph_features, f, \u001b[38;5;124m\"\u001b[39m\u001b[38;5;124mis_anomaly\u001b[39m\u001b[38;5;124m\"\u001b[39m)\n",
      "\u001b[1;31mNameError\u001b[0m: name 'remaining_engineered_features' is not defined"
     ]
    }
   ],
   "source": [
    "scores = []\n",
    "for f in remaining_engineered_features:\n",
    "    print(\"Feature Analysis:\", f)\n",
    "    score = feature_predictive_power(graph_features, f, \"is_anomaly\")\n",
    "    scores.append(score)"
   ]
  },
  {
   "cell_type": "code",
   "execution_count": null,
   "id": "2c945067-24a3-4e38-b7a5-dc2a00f3dae2",
   "metadata": {},
   "outputs": [],
   "source": [
    "pd.Series(scores, index=remaining_engineered_features).sort_values(ascending=False)"
   ]
  },
  {
   "cell_type": "code",
   "execution_count": 15,
   "id": "e677afb5-c383-4491-a42c-a9f62ef4ec29",
   "metadata": {},
   "outputs": [],
   "source": [
    "from sklearn.feature_selection import mutual_info_classif"
   ]
  },
  {
   "cell_type": "code",
   "execution_count": 16,
   "id": "b4025948-a934-4a11-a943-5c8e7196754b",
   "metadata": {},
   "outputs": [
    {
     "data": {
      "text/html": [
       "<div><style>\n",
       ".dataframe > thead > tr,\n",
       ".dataframe > tbody > tr {\n",
       "  text-align: right;\n",
       "  white-space: pre-wrap;\n",
       "}\n",
       "</style>\n",
       "<small>shape: (9_240, 1)</small><table border=\"1\" class=\"dataframe\"><thead><tr><th>Converted</th></tr><tr><td>i64</td></tr></thead><tbody><tr><td>0</td></tr><tr><td>0</td></tr><tr><td>1</td></tr><tr><td>0</td></tr><tr><td>1</td></tr><tr><td>&hellip;</td></tr><tr><td>1</td></tr><tr><td>0</td></tr><tr><td>0</td></tr><tr><td>1</td></tr><tr><td>1</td></tr></tbody></table></div>"
      ],
      "text/plain": [
       "shape: (9_240, 1)\n",
       "┌───────────┐\n",
       "│ Converted │\n",
       "│ ---       │\n",
       "│ i64       │\n",
       "╞═══════════╡\n",
       "│ 0         │\n",
       "│ 0         │\n",
       "│ 1         │\n",
       "│ 0         │\n",
       "│ 1         │\n",
       "│ …         │\n",
       "│ 1         │\n",
       "│ 0         │\n",
       "│ 0         │\n",
       "│ 1         │\n",
       "│ 1         │\n",
       "└───────────┘"
      ]
     },
     "execution_count": 16,
     "metadata": {},
     "output_type": "execute_result"
    }
   ],
   "source": [
    "data.select('Converted')"
   ]
  },
  {
   "cell_type": "code",
   "execution_count": null,
   "id": "c4ce032f-7431-4ca0-aa03-2c9c8482223c",
   "metadata": {},
   "outputs": [],
   "source": []
  },
  {
   "cell_type": "code",
   "execution_count": 17,
   "id": "ca927815-7386-4ab4-9920-092de5bf8328",
   "metadata": {},
   "outputs": [],
   "source": [
    "importances = mutual_info_classif(data.drop('Converted'), data.select('Converted').to_numpy().flatten())"
   ]
  },
  {
   "cell_type": "code",
   "execution_count": 18,
   "id": "1db05847-c19f-4d1f-8ce7-fdd45b8c1d19",
   "metadata": {},
   "outputs": [],
   "source": [
    "mutual_score = pd.DataFrame([ data.columns, importances], index = [\"Features\", \"Importance\"]).T.sort_values(by = \"Importance\", ascending = False).reset_index().drop(\"index\", axis = 1)\n"
   ]
  },
  {
   "cell_type": "code",
   "execution_count": 19,
   "id": "ca0c4328-b964-4c9c-8bf0-9195e3facb81",
   "metadata": {},
   "outputs": [],
   "source": [
    "low_score_col = mutual_score[mutual_score[\"Importance\"] == 0].Features.values\n"
   ]
  },
  {
   "cell_type": "code",
   "execution_count": 24,
   "id": "fd2ca334-2f74-4b8b-8e5e-4d71d31897f5",
   "metadata": {},
   "outputs": [
    {
     "data": {
      "text/plain": [
       "array(['Lead Source_WeLearn', 'Lead Source_Referral Sites',\n",
       "       'What is your current occupation_Housewife',\n",
       "       'Lead Origin_Lead Import', 'City_Thane & Outskirts',\n",
       "       'City_Tier II Cities', 'Last Notable Activity_Approached upfront',\n",
       "       'Last Notable Activity_Email Bounced',\n",
       "       'Last Notable Activity_Email Marked Spam',\n",
       "       'How did you hear about X Education_Online Search',\n",
       "       'Lead Source_Click2call', 'Last Notable Activity_Email Opened',\n",
       "       'Lead Profile_Other Leads',\n",
       "       'What is your current occupation_Businessman',\n",
       "       'Specialization_Retail Management',\n",
       "       'How did you hear about X Education_SMS',\n",
       "       'Specialization_Travel and Tourism',\n",
       "       'Last Notable Activity_View in browser link Clicked',\n",
       "       'Tags_Diploma holder (Not Eligible)', 'Lead Source_youtubechannel',\n",
       "       'Lead Source_testone', 'Tags_Still Thinking',\n",
       "       'Tags_In confusion whether part time or DLP',\n",
       "       'Specialization_Human Resource Management',\n",
       "       'Specialization_Hospitality Management', 'Tags_Lateral student',\n",
       "       'Specialization_Finance Management', 'Specialization_E-Business',\n",
       "       'Tags_Not doing further education',\n",
       "       'Last Activity_Visited Booth in Tradeshow',\n",
       "       'Last Activity_View in browser link Clicked',\n",
       "       'Tags_Shall take in the next coming month',\n",
       "       'Last Activity_Unsubscribed', 'Tags_Graduation in progress',\n",
       "       'Specialization_IT Projects Management', 'Tags_invalid number',\n",
       "       'Tags_number not provided', 'Tags_Busy',\n",
       "       'Last Activity_Form Submitted on Website',\n",
       "       'Tags_wrong number given', 'Last Activity_Email Received',\n",
       "       'Specialization_Marketing Management',\n",
       "       'Last Activity_Approached upfront', 'Do Not Call_Yes',\n",
       "       'How did you hear about X Education_Advertisements'], dtype=object)"
      ]
     },
     "execution_count": 24,
     "metadata": {},
     "output_type": "execute_result"
    }
   ],
   "source": [
    "low_score_col"
   ]
  },
  {
   "cell_type": "code",
   "execution_count": 20,
   "id": "0324181f-6489-4a5e-8637-ecc69ed98d10",
   "metadata": {},
   "outputs": [],
   "source": [
    "high_score_col = mutual_score[mutual_score[\"Importance\"] > 0].Features.values\n"
   ]
  },
  {
   "cell_type": "code",
   "execution_count": 25,
   "id": "a649be4b-6afc-460c-9562-b8788ba3e7d5",
   "metadata": {},
   "outputs": [
    {
     "data": {
      "text/plain": [
       "array(['Tags_Will revert after reading the email',\n",
       "       'Total Time Spent on Website', 'Lead Quality_None',\n",
       "       'Lead Profile_Potential Lead', 'Last Notable Activity_SMS Sent',\n",
       "       'Lead Quality_Might be', 'Lead Quality_High in Relevance',\n",
       "       'Last Activity_SMS Sent',\n",
       "       'What is your current occupation_Working Professional',\n",
       "       'Tags_Ringing', 'Lead Origin_Lead Add Form',\n",
       "       'Lead Source_Reference', 'Tags_Closed by Horizzon',\n",
       "       'Last Activity_Olark Chat Conversation', 'Tags_Already a student',\n",
       "       'Lead Quality_Worst', 'Tags_None', 'Page Views Per Visit',\n",
       "       'Tags_opp hangup', 'Tags_Lost to EINS',\n",
       "       'Lead Profile_Student of SomeSchool', 'Tags_switched off',\n",
       "       'Lead Source_bing', 'Do Not Email_Yes',\n",
       "       'Lead Source_Welingak Website',\n",
       "       'Lead Profile_Dual Specialization Student',\n",
       "       'Lead Source_Direct Traffic',\n",
       "       'Specialization_Banking, Investment And Insurance',\n",
       "       'Last Activity_Converted to Lead', 'TotalVisits',\n",
       "       'Specialization_Rural and Agribusiness', 'City_Other Cities',\n",
       "       'Tags_Want to take admission but has financial problems',\n",
       "       'Last Notable Activity_Unsubscribed',\n",
       "       'Specialization_Operations Management', 'Lead Quality_Not Sure',\n",
       "       'Lead Source_google', 'City_Other Cities of Maharashtra',\n",
       "       'How did you hear about X Education_Student of SomeSchool',\n",
       "       'Last Activity_Unreachable', 'Lead Profile_Lateral Student',\n",
       "       'Specialization_Business Administration',\n",
       "       'Last Notable Activity_Email Link Clicked',\n",
       "       'How did you hear about X Education_Other',\n",
       "       'Specialization_E-COMMERCE',\n",
       "       'How did you hear about X Education_Email',\n",
       "       'Last Notable Activity_Email Received',\n",
       "       'Last Notable Activity_Form Submitted on Website',\n",
       "       'Last Activity_Email Bounced',\n",
       "       'Specialization_Supply Chain Management',\n",
       "       'Tags_Interested in Next batch',\n",
       "       'Specialization_Media and Advertising', 'Lead Source_Social Media',\n",
       "       'Tags_Interested  in full time MBA', 'Lead Origin_Quick Add Form',\n",
       "       'Tags_Lost to Others', 'Lead Source_welearnblog_Home',\n",
       "       'Last Activity_Email Marked Spam',\n",
       "       'Tags_Recognition issue (DEC approval)',\n",
       "       'Lead Source_Organic Search',\n",
       "       'Lead Origin_Landing Page Submission',\n",
       "       'Last Notable Activity_Page Visited on Website',\n",
       "       'Lead Source_Press_Release', 'Last Activity_Email Link Clicked',\n",
       "       'Lead Source_Live Chat', 'City_Other Metro Cities',\n",
       "       'What is your current occupation_Other', 'Lead Source_Facebook',\n",
       "       'Last Activity_Resubscribed to emails',\n",
       "       'Last Notable Activity_Resubscribed to emails',\n",
       "       'Specialization_International Business',\n",
       "       'How did you hear about X Education_Word Of Mouth',\n",
       "       'Last Notable Activity_Olark Chat Conversation',\n",
       "       'How did you hear about X Education_Multiple Sources',\n",
       "       'Specialization_Services Excellence',\n",
       "       'Last Activity_Had a Phone Conversation',\n",
       "       'How did you hear about X Education_Social Media',\n",
       "       'Last Activity_Email Opened', 'Lead Source_Google',\n",
       "       'Last Notable Activity_Unreachable', 'Lead Source_NC_EDM',\n",
       "       'Tags_in touch with EINS', 'Lead Source_blog',\n",
       "       'Lead Source_Pay per Click Ads',\n",
       "       'Specialization_Healthcare Management',\n",
       "       'Tags_University not recognized',\n",
       "       'Last Notable Activity_Had a Phone Conversation',\n",
       "       'What is your current occupation_Student'], dtype=object)"
      ]
     },
     "execution_count": 25,
     "metadata": {},
     "output_type": "execute_result"
    }
   ],
   "source": [
    "high_score_col"
   ]
  },
  {
   "cell_type": "code",
   "execution_count": 26,
   "id": "75225500-20fb-4448-b774-6703ed2a0281",
   "metadata": {},
   "outputs": [],
   "source": [
    "feature_data = data.select(high_score_col)\n"
   ]
  },
  {
   "cell_type": "code",
   "execution_count": 27,
   "id": "053caa7a-8270-4d61-acf1-62c3c27d762d",
   "metadata": {},
   "outputs": [],
   "source": [
    "data = pl.concat([feature_data, data.select('Converted')], how='horizontal')\n"
   ]
  },
  {
   "cell_type": "code",
   "execution_count": null,
   "id": "678fcf8a-e749-43ed-adf4-c01fabe693cb",
   "metadata": {},
   "outputs": [],
   "source": [
    "def cleaning_pipeline(data: pl.DataFrame, output_path: str):\n",
    "    \"\"\"Data cleaning and processing pipeline\n",
    "\n",
    "    Args:\n",
    "        data (pl.DataFrame): input dataset that needs to be pre-processed\n",
    "        output_path (str): location of where to save the parquet file\n",
    "    \"\"\"\n",
    "\n",
    "    \n",
    "    # Drop unnecessary columns\n",
    "    columns_to_drop = [\n",
    "        'What matters most to you in choosing a course','Search','Magazine','Newspaper Article','X Education Forums','Newspaper',\n",
    "'Digital Advertisement','Through Recommendations','Receive More Updates About Our Courses',\n",
    "'Update me on Supply Chain Content',\n",
    "'Get updates on DM Content','I agree to pay the amount through cheque',\n",
    "'A free copy of Mastering The Interview','Country'\n",
    "    ]\n",
    "    data = data.drop(columns_to_drop)\n",
    "\n",
    "    categorical_cols = ['Lead Origin','Lead Source','Do Not Email','Do Not Call','Last Activity','Specialization',\n",
    " 'How did you hear about X Education','What is your current occupation','Tags','Lead Quality','Lead Profile',\n",
    " 'City','Last Notable Activity']\n",
    "\n",
    "    numerical_cols = ['TotalVisits', 'Total Time Spent on Website', 'Page Views Per Visit']\n",
    "\n",
    "    categorical_encoding_df = data.select(categorical_cols).to_dummies(drop_first=True)\n",
    "\n",
    "    numerical_encoding_df = data.select(numerical_cols).select([\n",
    "    (pl.col(col) - pl.col(col).min()) / (pl.col(col).max() - pl.col(col).min())\n",
    "    for col in numerical_cols\n",
    "])\n",
    "\n",
    "    data = pl.concat([categorical_encoding_df,numerical_encoding_df, data.select('Converted')], how='horizontal')\n",
    "\n",
    "    \n",
    "\n",
    "    low_importance = ['Lead Source_WeLearn', 'Lead Source_Referral Sites',\n",
    "       'What is your current occupation_Housewife',\n",
    "       'Lead Origin_Lead Import', 'City_Thane & Outskirts',\n",
    "       'City_Tier II Cities', 'Last Notable Activity_Approached upfront',\n",
    "       'Last Notable Activity_Email Bounced',\n",
    "       'Last Notable Activity_Email Marked Spam',\n",
    "       'How did you hear about X Education_Online Search',\n",
    "       'Lead Source_Click2call', 'Last Notable Activity_Email Opened',\n",
    "       'Lead Profile_Other Leads',\n",
    "       'What is your current occupation_Businessman',\n",
    "       'Specialization_Retail Management',\n",
    "       'How did you hear about X Education_SMS',\n",
    "       'Specialization_Travel and Tourism',\n",
    "       'Last Notable Activity_View in browser link Clicked',\n",
    "       'Tags_Diploma holder (Not Eligible)', 'Lead Source_youtubechannel',\n",
    "       'Lead Source_testone', 'Tags_Still Thinking',\n",
    "       'Tags_In confusion whether part time or DLP',\n",
    "       'Specialization_Human Resource Management',\n",
    "       'Specialization_Hospitality Management', 'Tags_Lateral student',\n",
    "       'Specialization_Finance Management', 'Specialization_E-Business',\n",
    "       'Tags_Not doing further education',\n",
    "       'Last Activity_Visited Booth in Tradeshow',\n",
    "       'Last Activity_View in browser link Clicked',\n",
    "       'Tags_Shall take in the next coming month',\n",
    "       'Last Activity_Unsubscribed', 'Tags_Graduation in progress',\n",
    "       'Specialization_IT Projects Management', 'Tags_invalid number',\n",
    "       'Tags_number not provided', 'Tags_Busy',\n",
    "       'Last Activity_Form Submitted on Website',\n",
    "       'Tags_wrong number given', 'Last Activity_Email Received',\n",
    "       'Specialization_Marketing Management',\n",
    "       'Last Activity_Approached upfront', 'Do Not Call_Yes',\n",
    "       'How did you hear about X Education_Advertisements']\n",
    "    \n",
    "    \n",
    "\n",
    "    \n",
    "\n",
    "    numerical_encoding_df = data.select(numerical_cols).select([\n",
    "    (pl.col(col) - pl.col(col).min()) / (pl.col(col).max() - pl.col(col).min())\n",
    "    for col in numerical_cols\n",
    "])\n",
    "\n",
    "    data.write_parquet(output_path)"
   ]
  },
  {
   "cell_type": "code",
   "execution_count": 28,
   "id": "ed9b310a-c9c7-45c3-87b5-82595bf987ee",
   "metadata": {},
   "outputs": [],
   "source": [
    "from sklearn.model_selection import train_test_split"
   ]
  },
  {
   "cell_type": "code",
   "execution_count": 29,
   "id": "6b173b52-92d6-4d3b-a553-c17a3f4f57ac",
   "metadata": {},
   "outputs": [],
   "source": [
    "train_data, test_data = train_test_split(data, test_size = 0.25)\n"
   ]
  },
  {
   "cell_type": "code",
   "execution_count": null,
   "id": "55ae25ac-7519-4763-8fc3-c4392021141c",
   "metadata": {},
   "outputs": [],
   "source": []
  },
  {
   "cell_type": "code",
   "execution_count": null,
   "id": "5440fe75-9ef0-43c6-ae68-0b333e6992ef",
   "metadata": {},
   "outputs": [],
   "source": []
  },
  {
   "cell_type": "code",
   "execution_count": null,
   "id": "873cf058-bf34-47fc-8734-7a4eac7e43d3",
   "metadata": {},
   "outputs": [],
   "source": []
  },
  {
   "cell_type": "code",
   "execution_count": 30,
   "id": "e294da1e-d1df-4426-abbd-07d1cacea08f",
   "metadata": {},
   "outputs": [],
   "source": [
    "output_train = \"../data/supervised_train_data.parquet\"\n",
    "output_test = \"../data/supervised_test_data.parquet\"\n",
    "\n",
    "train_data.write_parquet(output_train)\n",
    "test_data.write_parquet(output_test)\n",
    "#cleaning_pipeline(data, output)"
   ]
  },
  {
   "cell_type": "code",
   "execution_count": 32,
   "id": "b843770a-f501-4f40-b65b-94d12f7f0508",
   "metadata": {},
   "outputs": [
    {
     "data": {
      "text/plain": [
       "array([0, 0, 1, ..., 0, 1, 1], dtype=int64)"
      ]
     },
     "execution_count": 32,
     "metadata": {},
     "output_type": "execute_result"
    }
   ],
   "source": [
    "data.select('Converted').to_numpy().flatten()"
   ]
  },
  {
   "cell_type": "code",
   "execution_count": null,
   "id": "bcdbb43a-0d29-4f06-b942-e8ca2cfcf1bd",
   "metadata": {},
   "outputs": [],
   "source": []
  }
 ],
 "metadata": {
  "kernelspec": {
   "display_name": "Python 3 (ipykernel)",
   "language": "python",
   "name": "python3"
  },
  "language_info": {
   "codemirror_mode": {
    "name": "ipython",
    "version": 3
   },
   "file_extension": ".py",
   "mimetype": "text/x-python",
   "name": "python",
   "nbconvert_exporter": "python",
   "pygments_lexer": "ipython3",
   "version": "3.10.16"
  }
 },
 "nbformat": 4,
 "nbformat_minor": 5
}
