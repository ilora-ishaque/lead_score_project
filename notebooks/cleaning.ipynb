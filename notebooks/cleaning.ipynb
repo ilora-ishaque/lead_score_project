{
 "cells": [
  {
   "cell_type": "markdown",
   "id": "3d460c39",
   "metadata": {},
   "source": [
    "Dataset Cleaning "
   ]
  },
  {
   "cell_type": "markdown",
   "id": "c752f2ec",
   "metadata": {},
   "source": [
    "The main objectives for this notebooks are:\n",
    "- Get familiar with the dataset\n",
    "- Discover the data qualit y issues\n",
    "- Fix the data quality issues "
   ]
  },
  {
   "cell_type": "code",
   "execution_count": 1,
   "id": "a10371ca",
   "metadata": {},
   "outputs": [],
   "source": [
    "import sys, os\n",
    "import plotly.io as pio \n",
    "\n",
    "# Path needs to be added manually to read from another folder\n",
    "path2add = os.path.normpath(os.path.abspath(os.path.join(os.path.dirname('__file__'), os.path.pardir, 'utils')))\n",
    "if (not (path2add in sys.path)) :\n",
    "    sys.path.append(path2add)\n"
   ]
  },
  {
   "cell_type": "code",
   "execution_count": 3,
   "id": "9f985a7d",
   "metadata": {},
   "outputs": [],
   "source": [
    "import polars as pl \n",
    "import plotly.express as px\n",
    "from cleaning import (describe_objects, count_missing)\n"
   ]
  },
  {
   "cell_type": "markdown",
   "id": "a7ee203c-02d5-4e43-ba26-d4cf19da1855",
   "metadata": {},
   "source": [
    "Data Ingestion"
   ]
  },
  {
   "cell_type": "code",
   "execution_count": 5,
   "id": "41dfbb62",
   "metadata": {},
   "outputs": [
    {
     "name": "stdout",
     "output_type": "stream",
     "text": [
      "(9240, 37)\n"
     ]
    },
    {
     "data": {
      "text/html": [
       "<div><style>\n",
       ".dataframe > thead > tr,\n",
       ".dataframe > tbody > tr {\n",
       "  text-align: right;\n",
       "  white-space: pre-wrap;\n",
       "}\n",
       "</style>\n",
       "<small>shape: (5, 37)</small><table border=\"1\" class=\"dataframe\"><thead><tr><th>Prospect ID</th><th>Lead Number</th><th>Lead Origin</th><th>Lead Source</th><th>Do Not Email</th><th>Do Not Call</th><th>Converted</th><th>TotalVisits</th><th>Total Time Spent on Website</th><th>Page Views Per Visit</th><th>Last Activity</th><th>Country</th><th>Specialization</th><th>How did you hear about X Education</th><th>What is your current occupation</th><th>What matters most to you in choosing a course</th><th>Search</th><th>Magazine</th><th>Newspaper Article</th><th>X Education Forums</th><th>Newspaper</th><th>Digital Advertisement</th><th>Through Recommendations</th><th>Receive More Updates About Our Courses</th><th>Tags</th><th>Lead Quality</th><th>Update me on Supply Chain Content</th><th>Get updates on DM Content</th><th>Lead Profile</th><th>City</th><th>Asymmetrique Activity Index</th><th>Asymmetrique Profile Index</th><th>Asymmetrique Activity Score</th><th>Asymmetrique Profile Score</th><th>I agree to pay the amount through cheque</th><th>A free copy of Mastering The Interview</th><th>Last Notable Activity</th></tr><tr><td>str</td><td>i64</td><td>str</td><td>str</td><td>str</td><td>str</td><td>i64</td><td>i64</td><td>i64</td><td>f64</td><td>str</td><td>str</td><td>str</td><td>str</td><td>str</td><td>str</td><td>str</td><td>str</td><td>str</td><td>str</td><td>str</td><td>str</td><td>str</td><td>str</td><td>str</td><td>str</td><td>str</td><td>str</td><td>str</td><td>str</td><td>str</td><td>str</td><td>i64</td><td>i64</td><td>str</td><td>str</td><td>str</td></tr></thead><tbody><tr><td>&quot;7927b2df-8bba-4d29-b9a2-b6e0be…</td><td>660737</td><td>&quot;API&quot;</td><td>&quot;Olark Chat&quot;</td><td>&quot;No&quot;</td><td>&quot;No&quot;</td><td>0</td><td>0</td><td>0</td><td>0.0</td><td>&quot;Page Visited on Website&quot;</td><td>null</td><td>&quot;Select&quot;</td><td>&quot;Select&quot;</td><td>&quot;Unemployed&quot;</td><td>&quot;Better Career Prospects&quot;</td><td>&quot;No&quot;</td><td>&quot;No&quot;</td><td>&quot;No&quot;</td><td>&quot;No&quot;</td><td>&quot;No&quot;</td><td>&quot;No&quot;</td><td>&quot;No&quot;</td><td>&quot;No&quot;</td><td>&quot;Interested in other courses&quot;</td><td>&quot;Low in Relevance&quot;</td><td>&quot;No&quot;</td><td>&quot;No&quot;</td><td>&quot;Select&quot;</td><td>&quot;Select&quot;</td><td>&quot;02.Medium&quot;</td><td>&quot;02.Medium&quot;</td><td>15</td><td>15</td><td>&quot;No&quot;</td><td>&quot;No&quot;</td><td>&quot;Modified&quot;</td></tr><tr><td>&quot;2a272436-5132-4136-86fa-dcc88c…</td><td>660728</td><td>&quot;API&quot;</td><td>&quot;Organic Search&quot;</td><td>&quot;No&quot;</td><td>&quot;No&quot;</td><td>0</td><td>5</td><td>674</td><td>2.5</td><td>&quot;Email Opened&quot;</td><td>&quot;India&quot;</td><td>&quot;Select&quot;</td><td>&quot;Select&quot;</td><td>&quot;Unemployed&quot;</td><td>&quot;Better Career Prospects&quot;</td><td>&quot;No&quot;</td><td>&quot;No&quot;</td><td>&quot;No&quot;</td><td>&quot;No&quot;</td><td>&quot;No&quot;</td><td>&quot;No&quot;</td><td>&quot;No&quot;</td><td>&quot;No&quot;</td><td>&quot;Ringing&quot;</td><td>null</td><td>&quot;No&quot;</td><td>&quot;No&quot;</td><td>&quot;Select&quot;</td><td>&quot;Select&quot;</td><td>&quot;02.Medium&quot;</td><td>&quot;02.Medium&quot;</td><td>15</td><td>15</td><td>&quot;No&quot;</td><td>&quot;No&quot;</td><td>&quot;Email Opened&quot;</td></tr><tr><td>&quot;8cc8c611-a219-4f35-ad23-fdfd26…</td><td>660727</td><td>&quot;Landing Page Submission&quot;</td><td>&quot;Direct Traffic&quot;</td><td>&quot;No&quot;</td><td>&quot;No&quot;</td><td>1</td><td>2</td><td>1532</td><td>2.0</td><td>&quot;Email Opened&quot;</td><td>&quot;India&quot;</td><td>&quot;Business Administration&quot;</td><td>&quot;Select&quot;</td><td>&quot;Student&quot;</td><td>&quot;Better Career Prospects&quot;</td><td>&quot;No&quot;</td><td>&quot;No&quot;</td><td>&quot;No&quot;</td><td>&quot;No&quot;</td><td>&quot;No&quot;</td><td>&quot;No&quot;</td><td>&quot;No&quot;</td><td>&quot;No&quot;</td><td>&quot;Will revert after reading the …</td><td>&quot;Might be&quot;</td><td>&quot;No&quot;</td><td>&quot;No&quot;</td><td>&quot;Potential Lead&quot;</td><td>&quot;Mumbai&quot;</td><td>&quot;02.Medium&quot;</td><td>&quot;01.High&quot;</td><td>14</td><td>20</td><td>&quot;No&quot;</td><td>&quot;Yes&quot;</td><td>&quot;Email Opened&quot;</td></tr><tr><td>&quot;0cc2df48-7cf4-4e39-9de9-19797f…</td><td>660719</td><td>&quot;Landing Page Submission&quot;</td><td>&quot;Direct Traffic&quot;</td><td>&quot;No&quot;</td><td>&quot;No&quot;</td><td>0</td><td>1</td><td>305</td><td>1.0</td><td>&quot;Unreachable&quot;</td><td>&quot;India&quot;</td><td>&quot;Media and Advertising&quot;</td><td>&quot;Word Of Mouth&quot;</td><td>&quot;Unemployed&quot;</td><td>&quot;Better Career Prospects&quot;</td><td>&quot;No&quot;</td><td>&quot;No&quot;</td><td>&quot;No&quot;</td><td>&quot;No&quot;</td><td>&quot;No&quot;</td><td>&quot;No&quot;</td><td>&quot;No&quot;</td><td>&quot;No&quot;</td><td>&quot;Ringing&quot;</td><td>&quot;Not Sure&quot;</td><td>&quot;No&quot;</td><td>&quot;No&quot;</td><td>&quot;Select&quot;</td><td>&quot;Mumbai&quot;</td><td>&quot;02.Medium&quot;</td><td>&quot;01.High&quot;</td><td>13</td><td>17</td><td>&quot;No&quot;</td><td>&quot;No&quot;</td><td>&quot;Modified&quot;</td></tr><tr><td>&quot;3256f628-e534-4826-9d63-4a8b88…</td><td>660681</td><td>&quot;Landing Page Submission&quot;</td><td>&quot;Google&quot;</td><td>&quot;No&quot;</td><td>&quot;No&quot;</td><td>1</td><td>2</td><td>1428</td><td>1.0</td><td>&quot;Converted to Lead&quot;</td><td>&quot;India&quot;</td><td>&quot;Select&quot;</td><td>&quot;Other&quot;</td><td>&quot;Unemployed&quot;</td><td>&quot;Better Career Prospects&quot;</td><td>&quot;No&quot;</td><td>&quot;No&quot;</td><td>&quot;No&quot;</td><td>&quot;No&quot;</td><td>&quot;No&quot;</td><td>&quot;No&quot;</td><td>&quot;No&quot;</td><td>&quot;No&quot;</td><td>&quot;Will revert after reading the …</td><td>&quot;Might be&quot;</td><td>&quot;No&quot;</td><td>&quot;No&quot;</td><td>&quot;Select&quot;</td><td>&quot;Mumbai&quot;</td><td>&quot;02.Medium&quot;</td><td>&quot;01.High&quot;</td><td>15</td><td>18</td><td>&quot;No&quot;</td><td>&quot;No&quot;</td><td>&quot;Modified&quot;</td></tr></tbody></table></div>"
      ],
      "text/plain": [
       "shape: (5, 37)\n",
       "┌─────────────────────────┬─────────────┬──────────────┬────────────────┬───┬───────────────┬────────────────────┬──────────────────┬─────────────────────────┐\n",
       "│ Prospect ID             ┆ Lead Number ┆ Lead Origin  ┆ Lead Source    ┆ … ┆ Asymmetrique  ┆ I agree to pay the ┆ A free copy of   ┆ Last Notable Activity   │\n",
       "│ ---                     ┆ ---         ┆ ---          ┆ ---            ┆   ┆ Profile Score ┆ amount thro…       ┆ Mastering The I… ┆ ---                     │\n",
       "│ str                     ┆ i64         ┆ str          ┆ str            ┆   ┆ ---           ┆ ---                ┆ ---              ┆ str                     │\n",
       "│                         ┆             ┆              ┆                ┆   ┆ i64           ┆ str                ┆ str              ┆                         │\n",
       "╞═════════════════════════╪═════════════╪══════════════╪════════════════╪═══╪═══════════════╪════════════════════╪══════════════════╪═════════════════════════╡\n",
       "│ 7927b2df-8bba-4d29-b9a2 ┆ 660737      ┆ API          ┆ Olark Chat     ┆ … ┆ 15            ┆ No                 ┆ No               ┆ Modified                │\n",
       "│ -b6e0be…                ┆             ┆              ┆                ┆   ┆               ┆                    ┆                  ┆                         │\n",
       "│ 2a272436-5132-4136-86fa ┆ 660728      ┆ API          ┆ Organic Search ┆ … ┆ 15            ┆ No                 ┆ No               ┆ Email Opened            │\n",
       "│ -dcc88c…                ┆             ┆              ┆                ┆   ┆               ┆                    ┆                  ┆                         │\n",
       "│ 8cc8c611-a219-4f35-ad23 ┆ 660727      ┆ Landing Page ┆ Direct Traffic ┆ … ┆ 20            ┆ No                 ┆ Yes              ┆ Email Opened            │\n",
       "│ -fdfd26…                ┆             ┆ Submission   ┆                ┆   ┆               ┆                    ┆                  ┆                         │\n",
       "│ 0cc2df48-7cf4-4e39-9de9 ┆ 660719      ┆ Landing Page ┆ Direct Traffic ┆ … ┆ 17            ┆ No                 ┆ No               ┆ Modified                │\n",
       "│ -19797f…                ┆             ┆ Submission   ┆                ┆   ┆               ┆                    ┆                  ┆                         │\n",
       "│ 3256f628-e534-4826-9d63 ┆ 660681      ┆ Landing Page ┆ Google         ┆ … ┆ 18            ┆ No                 ┆ No               ┆ Modified                │\n",
       "│ -4a8b88…                ┆             ┆ Submission   ┆                ┆   ┆               ┆                    ┆                  ┆                         │\n",
       "└─────────────────────────┴─────────────┴──────────────┴────────────────┴───┴───────────────┴────────────────────┴──────────────────┴─────────────────────────┘"
      ]
     },
     "execution_count": 5,
     "metadata": {},
     "output_type": "execute_result"
    }
   ],
   "source": [
    "data = pl.read_csv(\"../data/Lead Scoring.csv\")\n",
    "print(data.shape)\n",
    "data.head()"
   ]
  },
  {
   "cell_type": "markdown",
   "id": "c4b567af-9f54-4afa-ad8f-c974484bea14",
   "metadata": {},
   "source": [
    "Data Profiling"
   ]
  },
  {
   "cell_type": "code",
   "execution_count": 6,
   "id": "79b09df7",
   "metadata": {
    "scrolled": true
   },
   "outputs": [
    {
     "name": "stdout",
     "output_type": "stream",
     "text": [
      "Original shape: (9240, 37)\n",
      "Columns: ['Prospect ID', 'Lead Number', 'Lead Origin', 'Lead Source', 'Do Not Email', 'Do Not Call', 'Converted', 'TotalVisits', 'Total Time Spent on Website', 'Page Views Per Visit', 'Last Activity', 'Country', 'Specialization', 'How did you hear about X Education', 'What is your current occupation', 'What matters most to you in choosing a course', 'Search', 'Magazine', 'Newspaper Article', 'X Education Forums', 'Newspaper', 'Digital Advertisement', 'Through Recommendations', 'Receive More Updates About Our Courses', 'Tags', 'Lead Quality', 'Update me on Supply Chain Content', 'Get updates on DM Content', 'Lead Profile', 'City', 'Asymmetrique Activity Index', 'Asymmetrique Profile Index', 'Asymmetrique Activity Score', 'Asymmetrique Profile Score', 'I agree to pay the amount through cheque', 'A free copy of Mastering The Interview', 'Last Notable Activity']\n"
     ]
    }
   ],
   "source": [
    "print(\"Original shape:\" ,  data.shape)\n",
    "print(\"Columns:\" , data.columns)"
   ]
  },
  {
   "cell_type": "code",
   "execution_count": 7,
   "id": "4c1b511c-d748-453f-b58d-8d75182912bf",
   "metadata": {},
   "outputs": [],
   "source": [
    "# Identify categorical (object-like) columns\n",
    "categorical_cols = [col for col in data.columns if data[col].dtype in [pl.Utf8, pl.Categorical]]\n",
    "# Identify numerical columns\n",
    "numerical_cols = [col for col in data.columns if data[col].dtype in [pl.Int32, pl.Int64, pl.UInt32, pl.UInt64, pl.Float32, pl.Float64]]"
   ]
  },
  {
   "cell_type": "code",
   "execution_count": 45,
   "id": "32a85354",
   "metadata": {},
   "outputs": [
    {
     "data": {
      "text/html": [
       "<div><style>\n",
       ".dataframe > thead > tr,\n",
       ".dataframe > tbody > tr {\n",
       "  text-align: right;\n",
       "  white-space: pre-wrap;\n",
       "}\n",
       "</style>\n",
       "<small>shape: (9, 8)</small><table border=\"1\" class=\"dataframe\"><thead><tr><th>statistic</th><th>Lead Number</th><th>Converted</th><th>TotalVisits</th><th>Total Time Spent on Website</th><th>Page Views Per Visit</th><th>Asymmetrique Activity Score</th><th>Asymmetrique Profile Score</th></tr><tr><td>str</td><td>f64</td><td>f64</td><td>f64</td><td>f64</td><td>f64</td><td>f64</td><td>f64</td></tr></thead><tbody><tr><td>&quot;count&quot;</td><td>9240.0</td><td>9240.0</td><td>9103.0</td><td>9240.0</td><td>9103.0</td><td>5022.0</td><td>5022.0</td></tr><tr><td>&quot;null_count&quot;</td><td>0.0</td><td>0.0</td><td>137.0</td><td>0.0</td><td>137.0</td><td>4218.0</td><td>4218.0</td></tr><tr><td>&quot;mean&quot;</td><td>617188.435606</td><td>0.38539</td><td>3.445238</td><td>487.698268</td><td>2.36282</td><td>14.306252</td><td>16.344883</td></tr><tr><td>&quot;std&quot;</td><td>23405.995698</td><td>0.486714</td><td>4.854853</td><td>548.021466</td><td>2.161418</td><td>1.386694</td><td>1.811395</td></tr><tr><td>&quot;min&quot;</td><td>579533.0</td><td>0.0</td><td>0.0</td><td>0.0</td><td>0.0</td><td>7.0</td><td>11.0</td></tr><tr><td>&quot;25%&quot;</td><td>596485.0</td><td>0.0</td><td>1.0</td><td>12.0</td><td>1.0</td><td>14.0</td><td>15.0</td></tr><tr><td>&quot;50%&quot;</td><td>615481.0</td><td>0.0</td><td>3.0</td><td>248.0</td><td>2.0</td><td>14.0</td><td>16.0</td></tr><tr><td>&quot;75%&quot;</td><td>637387.0</td><td>1.0</td><td>5.0</td><td>936.0</td><td>3.0</td><td>15.0</td><td>18.0</td></tr><tr><td>&quot;max&quot;</td><td>660737.0</td><td>1.0</td><td>251.0</td><td>2272.0</td><td>55.0</td><td>18.0</td><td>20.0</td></tr></tbody></table></div>"
      ],
      "text/plain": [
       "shape: (9, 8)\n",
       "┌────────────┬───────────────┬───────────┬─────────────┬─────────────────────┬──────────────────────┬───────────────────────┬────────────────────────────┐\n",
       "│ statistic  ┆ Lead Number   ┆ Converted ┆ TotalVisits ┆ Total Time Spent on ┆ Page Views Per Visit ┆ Asymmetrique Activity ┆ Asymmetrique Profile Score │\n",
       "│ ---        ┆ ---           ┆ ---       ┆ ---         ┆ Website             ┆ ---                  ┆ Score                 ┆ ---                        │\n",
       "│ str        ┆ f64           ┆ f64       ┆ f64         ┆ ---                 ┆ f64                  ┆ ---                   ┆ f64                        │\n",
       "│            ┆               ┆           ┆             ┆ f64                 ┆                      ┆ f64                   ┆                            │\n",
       "╞════════════╪═══════════════╪═══════════╪═════════════╪═════════════════════╪══════════════════════╪═══════════════════════╪════════════════════════════╡\n",
       "│ count      ┆ 9240.0        ┆ 9240.0    ┆ 9103.0      ┆ 9240.0              ┆ 9103.0               ┆ 5022.0                ┆ 5022.0                     │\n",
       "│ null_count ┆ 0.0           ┆ 0.0       ┆ 137.0       ┆ 0.0                 ┆ 137.0                ┆ 4218.0                ┆ 4218.0                     │\n",
       "│ mean       ┆ 617188.435606 ┆ 0.38539   ┆ 3.445238    ┆ 487.698268          ┆ 2.36282              ┆ 14.306252             ┆ 16.344883                  │\n",
       "│ std        ┆ 23405.995698  ┆ 0.486714  ┆ 4.854853    ┆ 548.021466          ┆ 2.161418             ┆ 1.386694              ┆ 1.811395                   │\n",
       "│ min        ┆ 579533.0      ┆ 0.0       ┆ 0.0         ┆ 0.0                 ┆ 0.0                  ┆ 7.0                   ┆ 11.0                       │\n",
       "│ 25%        ┆ 596485.0      ┆ 0.0       ┆ 1.0         ┆ 12.0                ┆ 1.0                  ┆ 14.0                  ┆ 15.0                       │\n",
       "│ 50%        ┆ 615481.0      ┆ 0.0       ┆ 3.0         ┆ 248.0               ┆ 2.0                  ┆ 14.0                  ┆ 16.0                       │\n",
       "│ 75%        ┆ 637387.0      ┆ 1.0       ┆ 5.0         ┆ 936.0               ┆ 3.0                  ┆ 15.0                  ┆ 18.0                       │\n",
       "│ max        ┆ 660737.0      ┆ 1.0       ┆ 251.0       ┆ 2272.0              ┆ 55.0                 ┆ 18.0                  ┆ 20.0                       │\n",
       "└────────────┴───────────────┴───────────┴─────────────┴─────────────────────┴──────────────────────┴───────────────────────┴────────────────────────────┘"
      ]
     },
     "execution_count": 45,
     "metadata": {},
     "output_type": "execute_result"
    }
   ],
   "source": [
    "data.select(numerical_cols).describe()"
   ]
  },
  {
   "cell_type": "code",
   "execution_count": 8,
   "id": "e42dd545-dfb5-4c14-80df-bc0a326c7c2f",
   "metadata": {},
   "outputs": [
    {
     "data": {
      "text/html": [
       "<div><style>\n",
       ".dataframe > thead > tr,\n",
       ".dataframe > tbody > tr {\n",
       "  text-align: right;\n",
       "  white-space: pre-wrap;\n",
       "}\n",
       "</style>\n",
       "<small>shape: (6, 31)</small><table border=\"1\" class=\"dataframe\"><thead><tr><th>Statistic</th><th>column_0</th><th>column_1</th><th>column_2</th><th>column_3</th><th>column_4</th><th>column_5</th><th>column_6</th><th>column_7</th><th>column_8</th><th>column_9</th><th>column_10</th><th>column_11</th><th>column_12</th><th>column_13</th><th>column_14</th><th>column_15</th><th>column_16</th><th>column_17</th><th>column_18</th><th>column_19</th><th>column_20</th><th>column_21</th><th>column_22</th><th>column_23</th><th>column_24</th><th>column_25</th><th>column_26</th><th>column_27</th><th>column_28</th><th>column_29</th></tr><tr><td>str</td><td>str</td><td>str</td><td>str</td><td>str</td><td>str</td><td>str</td><td>str</td><td>str</td><td>str</td><td>str</td><td>str</td><td>str</td><td>str</td><td>str</td><td>str</td><td>str</td><td>str</td><td>str</td><td>str</td><td>str</td><td>str</td><td>str</td><td>str</td><td>str</td><td>str</td><td>str</td><td>str</td><td>str</td><td>str</td><td>str</td></tr></thead><tbody><tr><td>&quot;Statistic&quot;</td><td>&quot;Prospect ID&quot;</td><td>&quot;Lead Origin&quot;</td><td>&quot;Lead Source&quot;</td><td>&quot;Do Not Email&quot;</td><td>&quot;Do Not Call&quot;</td><td>&quot;Last Activity&quot;</td><td>&quot;Country&quot;</td><td>&quot;Specialization&quot;</td><td>&quot;How did you hear about X Educa…</td><td>&quot;What is your current occupatio…</td><td>&quot;What matters most to you in ch…</td><td>&quot;Search&quot;</td><td>&quot;Magazine&quot;</td><td>&quot;Newspaper Article&quot;</td><td>&quot;X Education Forums&quot;</td><td>&quot;Newspaper&quot;</td><td>&quot;Digital Advertisement&quot;</td><td>&quot;Through Recommendations&quot;</td><td>&quot;Receive More Updates About Our…</td><td>&quot;Tags&quot;</td><td>&quot;Lead Quality&quot;</td><td>&quot;Update me on Supply Chain Cont…</td><td>&quot;Get updates on DM Content&quot;</td><td>&quot;Lead Profile&quot;</td><td>&quot;City&quot;</td><td>&quot;Asymmetrique Activity Index&quot;</td><td>&quot;Asymmetrique Profile Index&quot;</td><td>&quot;I agree to pay the amount thro…</td><td>&quot;A free copy of Mastering The I…</td><td>&quot;Last Notable Activity&quot;</td></tr><tr><td>&quot;count&quot;</td><td>&quot;9240&quot;</td><td>&quot;9240&quot;</td><td>&quot;9204&quot;</td><td>&quot;9240&quot;</td><td>&quot;9240&quot;</td><td>&quot;9137&quot;</td><td>&quot;6779&quot;</td><td>&quot;7802&quot;</td><td>&quot;7033&quot;</td><td>&quot;6550&quot;</td><td>&quot;6531&quot;</td><td>&quot;9240&quot;</td><td>&quot;9240&quot;</td><td>&quot;9240&quot;</td><td>&quot;9240&quot;</td><td>&quot;9240&quot;</td><td>&quot;9240&quot;</td><td>&quot;9240&quot;</td><td>&quot;9240&quot;</td><td>&quot;5887&quot;</td><td>&quot;4473&quot;</td><td>&quot;9240&quot;</td><td>&quot;9240&quot;</td><td>&quot;6531&quot;</td><td>&quot;7820&quot;</td><td>&quot;5022&quot;</td><td>&quot;5022&quot;</td><td>&quot;9240&quot;</td><td>&quot;9240&quot;</td><td>&quot;9240&quot;</td></tr><tr><td>&quot;unique&quot;</td><td>&quot;9240&quot;</td><td>&quot;5&quot;</td><td>&quot;22&quot;</td><td>&quot;2&quot;</td><td>&quot;2&quot;</td><td>&quot;18&quot;</td><td>&quot;39&quot;</td><td>&quot;20&quot;</td><td>&quot;11&quot;</td><td>&quot;7&quot;</td><td>&quot;4&quot;</td><td>&quot;2&quot;</td><td>&quot;1&quot;</td><td>&quot;2&quot;</td><td>&quot;2&quot;</td><td>&quot;2&quot;</td><td>&quot;2&quot;</td><td>&quot;2&quot;</td><td>&quot;1&quot;</td><td>&quot;27&quot;</td><td>&quot;6&quot;</td><td>&quot;1&quot;</td><td>&quot;1&quot;</td><td>&quot;7&quot;</td><td>&quot;8&quot;</td><td>&quot;4&quot;</td><td>&quot;4&quot;</td><td>&quot;1&quot;</td><td>&quot;2&quot;</td><td>&quot;16&quot;</td></tr><tr><td>&quot;null_count&quot;</td><td>&quot;0&quot;</td><td>&quot;0&quot;</td><td>&quot;36&quot;</td><td>&quot;0&quot;</td><td>&quot;0&quot;</td><td>&quot;103&quot;</td><td>&quot;2461&quot;</td><td>&quot;1438&quot;</td><td>&quot;2207&quot;</td><td>&quot;2690&quot;</td><td>&quot;2709&quot;</td><td>&quot;0&quot;</td><td>&quot;0&quot;</td><td>&quot;0&quot;</td><td>&quot;0&quot;</td><td>&quot;0&quot;</td><td>&quot;0&quot;</td><td>&quot;0&quot;</td><td>&quot;0&quot;</td><td>&quot;3353&quot;</td><td>&quot;4767&quot;</td><td>&quot;0&quot;</td><td>&quot;0&quot;</td><td>&quot;2709&quot;</td><td>&quot;1420&quot;</td><td>&quot;4218&quot;</td><td>&quot;4218&quot;</td><td>&quot;0&quot;</td><td>&quot;0&quot;</td><td>&quot;0&quot;</td></tr><tr><td>&quot;top&quot;</td><td>&quot;1462884a-d722-492a-8457-98f453…</td><td>&quot;Landing Page Submission&quot;</td><td>&quot;Google&quot;</td><td>&quot;No&quot;</td><td>&quot;No&quot;</td><td>&quot;Email Opened&quot;</td><td>&quot;India&quot;</td><td>&quot;Select&quot;</td><td>&quot;Select&quot;</td><td>&quot;Unemployed&quot;</td><td>&quot;Better Career Prospects&quot;</td><td>&quot;No&quot;</td><td>&quot;No&quot;</td><td>&quot;No&quot;</td><td>&quot;No&quot;</td><td>&quot;No&quot;</td><td>&quot;No&quot;</td><td>&quot;No&quot;</td><td>&quot;No&quot;</td><td>null</td><td>null</td><td>&quot;No&quot;</td><td>&quot;No&quot;</td><td>&quot;Select&quot;</td><td>&quot;Mumbai&quot;</td><td>null</td><td>null</td><td>&quot;No&quot;</td><td>&quot;No&quot;</td><td>&quot;Modified&quot;</td></tr><tr><td>&quot;freq&quot;</td><td>&quot;1&quot;</td><td>&quot;4886&quot;</td><td>&quot;2868&quot;</td><td>&quot;8506&quot;</td><td>&quot;9238&quot;</td><td>&quot;3437&quot;</td><td>&quot;6492&quot;</td><td>&quot;1942&quot;</td><td>&quot;5043&quot;</td><td>&quot;5600&quot;</td><td>&quot;6528&quot;</td><td>&quot;9226&quot;</td><td>&quot;9240&quot;</td><td>&quot;9238&quot;</td><td>&quot;9239&quot;</td><td>&quot;9239&quot;</td><td>&quot;9236&quot;</td><td>&quot;9233&quot;</td><td>&quot;9240&quot;</td><td>null</td><td>null</td><td>&quot;9240&quot;</td><td>&quot;9240&quot;</td><td>&quot;4146&quot;</td><td>&quot;3222&quot;</td><td>null</td><td>null</td><td>&quot;9240&quot;</td><td>&quot;6352&quot;</td><td>&quot;3407&quot;</td></tr></tbody></table></div>"
      ],
      "text/plain": [
       "shape: (6, 31)\n",
       "┌────────────┬───────────────────────────────┬──────────────┬─────────────┬───┬───────────────┬────────────────────┬──────────────────┬───────────────────────┐\n",
       "│ Statistic  ┆ column_0                      ┆ column_1     ┆ column_2    ┆ … ┆ column_26     ┆ column_27          ┆ column_28        ┆ column_29             │\n",
       "│ ---        ┆ ---                           ┆ ---          ┆ ---         ┆   ┆ ---           ┆ ---                ┆ ---              ┆ ---                   │\n",
       "│ str        ┆ str                           ┆ str          ┆ str         ┆   ┆ str           ┆ str                ┆ str              ┆ str                   │\n",
       "╞════════════╪═══════════════════════════════╪══════════════╪═════════════╪═══╪═══════════════╪════════════════════╪══════════════════╪═══════════════════════╡\n",
       "│ Statistic  ┆ Prospect ID                   ┆ Lead Origin  ┆ Lead Source ┆ … ┆ Asymmetrique  ┆ I agree to pay the ┆ A free copy of   ┆ Last Notable Activity │\n",
       "│            ┆                               ┆              ┆             ┆   ┆ Profile Index ┆ amount thro…       ┆ Mastering The I… ┆                       │\n",
       "│ count      ┆ 9240                          ┆ 9240         ┆ 9204        ┆ … ┆ 5022          ┆ 9240               ┆ 9240             ┆ 9240                  │\n",
       "│ unique     ┆ 9240                          ┆ 5            ┆ 22          ┆ … ┆ 4             ┆ 1                  ┆ 2                ┆ 16                    │\n",
       "│ null_count ┆ 0                             ┆ 0            ┆ 36          ┆ … ┆ 4218          ┆ 0                  ┆ 0                ┆ 0                     │\n",
       "│ top        ┆ 1462884a-d722-492a-8457-98f45 ┆ Landing Page ┆ Google      ┆ … ┆ null          ┆ No                 ┆ No               ┆ Modified              │\n",
       "│            ┆ 3…                            ┆ Submission   ┆             ┆   ┆               ┆                    ┆                  ┆                       │\n",
       "│ freq       ┆ 1                             ┆ 4886         ┆ 2868        ┆ … ┆ null          ┆ 9240               ┆ 6352             ┆ 3407                  │\n",
       "└────────────┴───────────────────────────────┴──────────────┴─────────────┴───┴───────────────┴────────────────────┴──────────────────┴───────────────────────┘"
      ]
     },
     "execution_count": 8,
     "metadata": {},
     "output_type": "execute_result"
    }
   ],
   "source": [
    "describe_objects(data)"
   ]
  },
  {
   "cell_type": "code",
   "execution_count": null,
   "id": "48b05abd-eb93-4fd0-be59-a3d4ab528267",
   "metadata": {},
   "outputs": [],
   "source": [
    "data.filter(pl.col(\"inter_api_access_duration(sec)\").is_null())"
   ]
  },
  {
   "cell_type": "markdown",
   "id": "d03053bb-a8a2-4f88-8cf5-494371e6cc76",
   "metadata": {},
   "source": [
    "Observations\n",
    "- Some\n"
   ]
  },
  {
   "cell_type": "code",
   "execution_count": null,
   "id": "3ecf415f-627c-460c-85aa-a5687fb1610d",
   "metadata": {},
   "outputs": [],
   "source": [
    "Impact\n",
    "- Columns '' '' ''  '' need to be dropped as almost half of the values are missing"
   ]
  }
 ],
 "metadata": {
  "kernelspec": {
   "display_name": "Python 3 (ipykernel)",
   "language": "python",
   "name": "python3"
  },
  "language_info": {
   "codemirror_mode": {
    "name": "ipython",
    "version": 3
   },
   "file_extension": ".py",
   "mimetype": "text/x-python",
   "name": "python",
   "nbconvert_exporter": "python",
   "pygments_lexer": "ipython3",
   "version": "3.12.8"
  }
 },
 "nbformat": 4,
 "nbformat_minor": 5
}
